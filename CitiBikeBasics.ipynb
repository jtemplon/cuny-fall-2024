{
 "cells": [
  {
   "cell_type": "code",
   "execution_count": 1,
   "id": "e2200040-8e45-4b86-b6ee-c12128e6369d",
   "metadata": {},
   "outputs": [],
   "source": [
    "import glob\n",
    "import pandas as pd"
   ]
  },
  {
   "cell_type": "markdown",
   "id": "650adb44-13a1-4c74-befe-28ed0652cb87",
   "metadata": {},
   "source": [
    "## Load Data"
   ]
  },
  {
   "cell_type": "code",
   "execution_count": 2,
   "id": "a4050477-89be-44f3-aca6-62f2d6259479",
   "metadata": {},
   "outputs": [],
   "source": [
    "trip_files = glob.glob(\"./202409-citibike-tripdata/*\")"
   ]
  },
  {
   "cell_type": "code",
   "execution_count": 3,
   "id": "28f74028-83a3-45a6-913d-209651fbcdd5",
   "metadata": {},
   "outputs": [
    {
     "data": {
      "text/plain": [
       "['./202409-citibike-tripdata/202409-citibike-tripdata_2.csv.zip',\n",
       " './202409-citibike-tripdata/202409-citibike-tripdata_3.csv.zip',\n",
       " './202409-citibike-tripdata/202409-citibike-tripdata_1.csv.zip',\n",
       " './202409-citibike-tripdata/202409-citibike-tripdata_5.csv.zip',\n",
       " './202409-citibike-tripdata/202409-citibike-tripdata_4.csv.zip']"
      ]
     },
     "execution_count": 3,
     "metadata": {},
     "output_type": "execute_result"
    }
   ],
   "source": [
    "trip_files"
   ]
  },
  {
   "cell_type": "code",
   "execution_count": 4,
   "id": "b2b32611-14d8-4eb4-9302-69a450d6331b",
   "metadata": {},
   "outputs": [],
   "source": [
    "df = pd.concat([ \n",
    "    pd.read_csv(\n",
    "        tf,\n",
    "        parse_dates=[\"started_at\", \"ended_at\"],\n",
    "        dtype={\n",
    "            \"start_station_name\": str,\n",
    "            \"end_station_name\": str,\n",
    "            \"start_station_id\": str,\n",
    "            \"end_station_id\": str\n",
    "        }\n",
    "    ) for tf in trip_files\n",
    "])"
   ]
  },
  {
   "cell_type": "code",
   "execution_count": 5,
   "id": "d82f8a70-c905-43a7-8463-0443e4319954",
   "metadata": {},
   "outputs": [
    {
     "data": {
      "text/html": [
       "<div>\n",
       "<style scoped>\n",
       "    .dataframe tbody tr th:only-of-type {\n",
       "        vertical-align: middle;\n",
       "    }\n",
       "\n",
       "    .dataframe tbody tr th {\n",
       "        vertical-align: top;\n",
       "    }\n",
       "\n",
       "    .dataframe thead th {\n",
       "        text-align: right;\n",
       "    }\n",
       "</style>\n",
       "<table border=\"1\" class=\"dataframe\">\n",
       "  <thead>\n",
       "    <tr style=\"text-align: right;\">\n",
       "      <th></th>\n",
       "      <th>ride_id</th>\n",
       "      <th>rideable_type</th>\n",
       "      <th>started_at</th>\n",
       "      <th>ended_at</th>\n",
       "      <th>start_station_name</th>\n",
       "      <th>start_station_id</th>\n",
       "      <th>end_station_name</th>\n",
       "      <th>end_station_id</th>\n",
       "      <th>start_lat</th>\n",
       "      <th>start_lng</th>\n",
       "      <th>end_lat</th>\n",
       "      <th>end_lng</th>\n",
       "      <th>member_casual</th>\n",
       "    </tr>\n",
       "  </thead>\n",
       "  <tbody>\n",
       "    <tr>\n",
       "      <th>0</th>\n",
       "      <td>BD5299CB404DEC67</td>\n",
       "      <td>classic_bike</td>\n",
       "      <td>2024-09-06 18:53:56.193</td>\n",
       "      <td>2024-09-06 18:57:08.782</td>\n",
       "      <td>Forest Ave &amp; Summerfield St</td>\n",
       "      <td>4798.02</td>\n",
       "      <td>St Felix Ave &amp; 61 St</td>\n",
       "      <td>4719.04</td>\n",
       "      <td>40.699220</td>\n",
       "      <td>-73.897950</td>\n",
       "      <td>40.697150</td>\n",
       "      <td>-73.893600</td>\n",
       "      <td>member</td>\n",
       "    </tr>\n",
       "    <tr>\n",
       "      <th>1</th>\n",
       "      <td>743B1F43BCC71F11</td>\n",
       "      <td>electric_bike</td>\n",
       "      <td>2024-09-02 21:09:09.862</td>\n",
       "      <td>2024-09-02 21:13:16.881</td>\n",
       "      <td>E 7 St &amp; Ave B</td>\n",
       "      <td>5584.05</td>\n",
       "      <td>Rivington St &amp; Ridge St</td>\n",
       "      <td>5406.02</td>\n",
       "      <td>40.725129</td>\n",
       "      <td>-73.981317</td>\n",
       "      <td>40.718502</td>\n",
       "      <td>-73.983299</td>\n",
       "      <td>member</td>\n",
       "    </tr>\n",
       "    <tr>\n",
       "      <th>2</th>\n",
       "      <td>1642CEBE805FA026</td>\n",
       "      <td>electric_bike</td>\n",
       "      <td>2024-09-17 07:29:14.311</td>\n",
       "      <td>2024-09-17 08:03:10.812</td>\n",
       "      <td>7 Ave &amp; 20 St</td>\n",
       "      <td>3588.01</td>\n",
       "      <td>Central Ave &amp; Woodbine St</td>\n",
       "      <td>4632.10</td>\n",
       "      <td>40.659053</td>\n",
       "      <td>-73.988540</td>\n",
       "      <td>40.692960</td>\n",
       "      <td>-73.916050</td>\n",
       "      <td>member</td>\n",
       "    </tr>\n",
       "    <tr>\n",
       "      <th>3</th>\n",
       "      <td>B4D4FA8F4D1B7A79</td>\n",
       "      <td>electric_bike</td>\n",
       "      <td>2024-09-13 12:39:51.392</td>\n",
       "      <td>2024-09-13 12:59:46.772</td>\n",
       "      <td>E 53 St &amp; 3 Ave</td>\n",
       "      <td>6617.02</td>\n",
       "      <td>Rivington St &amp; Ridge St</td>\n",
       "      <td>5406.02</td>\n",
       "      <td>40.757632</td>\n",
       "      <td>-73.969306</td>\n",
       "      <td>40.718502</td>\n",
       "      <td>-73.983299</td>\n",
       "      <td>member</td>\n",
       "    </tr>\n",
       "    <tr>\n",
       "      <th>4</th>\n",
       "      <td>B6A18EDFBB29C904</td>\n",
       "      <td>classic_bike</td>\n",
       "      <td>2024-09-23 08:52:08.749</td>\n",
       "      <td>2024-09-23 08:55:59.812</td>\n",
       "      <td>Cadman Plaza E &amp; Red Cross Pl</td>\n",
       "      <td>4821.06</td>\n",
       "      <td>Main St &amp; Plymouth St</td>\n",
       "      <td>4936.21</td>\n",
       "      <td>40.699918</td>\n",
       "      <td>-73.989718</td>\n",
       "      <td>40.703782</td>\n",
       "      <td>-73.990734</td>\n",
       "      <td>member</td>\n",
       "    </tr>\n",
       "  </tbody>\n",
       "</table>\n",
       "</div>"
      ],
      "text/plain": [
       "            ride_id  rideable_type              started_at  \\\n",
       "0  BD5299CB404DEC67   classic_bike 2024-09-06 18:53:56.193   \n",
       "1  743B1F43BCC71F11  electric_bike 2024-09-02 21:09:09.862   \n",
       "2  1642CEBE805FA026  electric_bike 2024-09-17 07:29:14.311   \n",
       "3  B4D4FA8F4D1B7A79  electric_bike 2024-09-13 12:39:51.392   \n",
       "4  B6A18EDFBB29C904   classic_bike 2024-09-23 08:52:08.749   \n",
       "\n",
       "                 ended_at             start_station_name start_station_id  \\\n",
       "0 2024-09-06 18:57:08.782    Forest Ave & Summerfield St          4798.02   \n",
       "1 2024-09-02 21:13:16.881                 E 7 St & Ave B          5584.05   \n",
       "2 2024-09-17 08:03:10.812                  7 Ave & 20 St          3588.01   \n",
       "3 2024-09-13 12:59:46.772                E 53 St & 3 Ave          6617.02   \n",
       "4 2024-09-23 08:55:59.812  Cadman Plaza E & Red Cross Pl          4821.06   \n",
       "\n",
       "            end_station_name end_station_id  start_lat  start_lng    end_lat  \\\n",
       "0       St Felix Ave & 61 St        4719.04  40.699220 -73.897950  40.697150   \n",
       "1    Rivington St & Ridge St        5406.02  40.725129 -73.981317  40.718502   \n",
       "2  Central Ave & Woodbine St        4632.10  40.659053 -73.988540  40.692960   \n",
       "3    Rivington St & Ridge St        5406.02  40.757632 -73.969306  40.718502   \n",
       "4      Main St & Plymouth St        4936.21  40.699918 -73.989718  40.703782   \n",
       "\n",
       "     end_lng member_casual  \n",
       "0 -73.893600        member  \n",
       "1 -73.983299        member  \n",
       "2 -73.916050        member  \n",
       "3 -73.983299        member  \n",
       "4 -73.990734        member  "
      ]
     },
     "execution_count": 5,
     "metadata": {},
     "output_type": "execute_result"
    }
   ],
   "source": [
    "df.head()"
   ]
  },
  {
   "cell_type": "code",
   "execution_count": 6,
   "id": "a194fa78-3247-459b-95a7-f35093fafba6",
   "metadata": {},
   "outputs": [
    {
     "data": {
      "text/plain": [
       "ride_id                       object\n",
       "rideable_type                 object\n",
       "started_at            datetime64[ns]\n",
       "ended_at              datetime64[ns]\n",
       "start_station_name            object\n",
       "start_station_id              object\n",
       "end_station_name              object\n",
       "end_station_id                object\n",
       "start_lat                    float64\n",
       "start_lng                    float64\n",
       "end_lat                      float64\n",
       "end_lng                      float64\n",
       "member_casual                 object\n",
       "dtype: object"
      ]
     },
     "execution_count": 6,
     "metadata": {},
     "output_type": "execute_result"
    }
   ],
   "source": [
    "df.dtypes"
   ]
  },
  {
   "cell_type": "markdown",
   "id": "5282bd85-d532-41df-bf7e-077f8b677cf3",
   "metadata": {},
   "source": [
    "## Data Basics"
   ]
  },
  {
   "cell_type": "code",
   "execution_count": 7,
   "id": "bb7820ba-5271-4cc2-9cb2-9eee18092d6e",
   "metadata": {},
   "outputs": [
    {
     "data": {
      "text/plain": [
       "rideable_type\n",
       "electric_bike    3321206\n",
       "classic_bike     1676692\n",
       "Name: count, dtype: int64"
      ]
     },
     "execution_count": 7,
     "metadata": {},
     "output_type": "execute_result"
    }
   ],
   "source": [
    "df[\"rideable_type\"].value_counts()"
   ]
  },
  {
   "cell_type": "code",
   "execution_count": 8,
   "id": "dc907ec5-b283-43cb-831f-7122db2bb419",
   "metadata": {},
   "outputs": [
    {
     "data": {
      "text/plain": [
       "member_casual\n",
       "member    3954888\n",
       "casual    1043010\n",
       "Name: count, dtype: int64"
      ]
     },
     "execution_count": 8,
     "metadata": {},
     "output_type": "execute_result"
    }
   ],
   "source": [
    "df[\"member_casual\"].value_counts()"
   ]
  },
  {
   "cell_type": "code",
   "execution_count": 9,
   "id": "c0192c23-613d-4595-8642-f2ffca71140c",
   "metadata": {},
   "outputs": [
    {
     "data": {
      "text/plain": [
       "start_station_name\n",
       "W 21 St & 6 Ave                    17445\n",
       "Broadway & E 14 St                 16525\n",
       "Broadway & W 58 St                 16509\n",
       "8 Ave & W 31 St                    16109\n",
       "West St & Chambers St              15910\n",
       "                                   ...  \n",
       "Andrew Ave N & Hall of Fame Tce       28\n",
       "Brooklyn Ave & Snyder Ave             25\n",
       "E 182 St & Park Ave                   15\n",
       "Pier 40 X2                             5\n",
       "Lab - NYC - M                          1\n",
       "Name: count, Length: 2140, dtype: int64"
      ]
     },
     "execution_count": 9,
     "metadata": {},
     "output_type": "execute_result"
    }
   ],
   "source": [
    "df[\"start_station_name\"].value_counts()"
   ]
  },
  {
   "cell_type": "code",
   "execution_count": 10,
   "id": "b0f8a6df-9de4-4150-a09d-86eaf6ff697e",
   "metadata": {},
   "outputs": [
    {
     "data": {
      "text/plain": [
       "end_station_name\n",
       "W 21 St & 6 Ave          17455\n",
       "Broadway & E 14 St       16269\n",
       "8 Ave & W 31 St          16257\n",
       "Broadway & W 58 St       16044\n",
       "West St & Chambers St    16032\n",
       "                         ...  \n",
       "Brunswick St                 1\n",
       "Newport Pkwy                 1\n",
       "Madison St & 10 St           1\n",
       "Washington St                1\n",
       "Astor Place                  1\n",
       "Name: count, Length: 2188, dtype: int64"
      ]
     },
     "execution_count": 10,
     "metadata": {},
     "output_type": "execute_result"
    }
   ],
   "source": [
    "df[\"end_station_name\"].value_counts()"
   ]
  },
  {
   "cell_type": "code",
   "execution_count": 11,
   "id": "925de6ab-0303-4e91-9a4a-79b653b19402",
   "metadata": {},
   "outputs": [
    {
     "data": {
      "text/plain": [
       "started_at\n",
       "20-9-2024    194315\n",
       "19-9-2024    192615\n",
       "21-9-2024    189916\n",
       "13-9-2024    189697\n",
       "12-9-2024    189245\n",
       "11-9-2024    189173\n",
       "18-9-2024    185879\n",
       "10-9-2024    185296\n",
       "14-9-2024    185270\n",
       "17-9-2024    183013\n",
       "27-9-2024    181046\n",
       "4-9-2024     179690\n",
       "24-9-2024    178192\n",
       "6-9-2024     176778\n",
       "5-9-2024     173029\n",
       "25-9-2024    172867\n",
       "16-9-2024    169636\n",
       "9-9-2024     167796\n",
       "30-9-2024    167474\n",
       "3-9-2024     165431\n",
       "22-9-2024    165242\n",
       "15-9-2024    164711\n",
       "26-9-2024    160454\n",
       "8-9-2024     160120\n",
       "23-9-2024    152069\n",
       "2-9-2024     144419\n",
       "7-9-2024     143523\n",
       "1-9-2024     128478\n",
       "28-9-2024     90069\n",
       "29-9-2024     71332\n",
       "31-8-2024      1123\n",
       "Name: count, dtype: int64"
      ]
     },
     "execution_count": 11,
     "metadata": {},
     "output_type": "execute_result"
    }
   ],
   "source": [
    "df[\"started_at\"].apply(lambda x: f\"{x.day}-{x.month}-{x.year}\").value_counts()"
   ]
  },
  {
   "cell_type": "markdown",
   "id": "bca14bd6-4ad9-4c17-903e-4f21de2fb994",
   "metadata": {},
   "source": [
    "## Discussion\n",
    "\n",
    "What are some data points we could develop that could help us find similar stations?"
   ]
  }
 ],
 "metadata": {
  "kernelspec": {
   "display_name": "Python 3 (ipykernel)",
   "language": "python",
   "name": "python3"
  },
  "language_info": {
   "codemirror_mode": {
    "name": "ipython",
    "version": 3
   },
   "file_extension": ".py",
   "mimetype": "text/x-python",
   "name": "python",
   "nbconvert_exporter": "python",
   "pygments_lexer": "ipython3",
   "version": "3.12.6"
  }
 },
 "nbformat": 4,
 "nbformat_minor": 5
}
