{
 "cells": [
  {
   "cell_type": "markdown",
   "id": "a3cd97a6-0648-44d1-a810-4261f745e5db",
   "metadata": {},
   "source": [
    "# Train A Sentiment Classifier\n",
    "\n",
    "The Yelp dataset is generated from the [Yelp academic download](https://www.yelp.com/dataset/download). The lesson is derived from this example in [Textblob's documentation](https://textblob.readthedocs.io/en/dev/classifiers.html#classifiers)."
   ]
  },
  {
   "cell_type": "code",
   "execution_count": 1,
   "id": "9b24b66e-e505-475b-b280-ba1a9be69b2b",
   "metadata": {},
   "outputs": [],
   "source": [
    "import pandas as pd\n",
    "from textblob.classifiers import NaiveBayesClassifier"
   ]
  },
  {
   "cell_type": "code",
   "execution_count": 2,
   "id": "64a2c662-52de-495b-98ca-d8956d41597d",
   "metadata": {},
   "outputs": [],
   "source": [
    "# import nltk\n",
    "# nltk.download('punkt_tab') # we need to do this once for the tokenizer"
   ]
  },
  {
   "cell_type": "code",
   "execution_count": 3,
   "id": "f6e94cec-1db0-48fa-8d47-bffaa71babe3",
   "metadata": {},
   "outputs": [],
   "source": [
    "reviews = pd.read_csv('small_yelp_reviews.csv')"
   ]
  },
  {
   "cell_type": "code",
   "execution_count": 4,
   "id": "2f81a4d4-549a-47d8-85c4-da5e61f09076",
   "metadata": {},
   "outputs": [
    {
     "data": {
      "text/html": [
       "<div>\n",
       "<style scoped>\n",
       "    .dataframe tbody tr th:only-of-type {\n",
       "        vertical-align: middle;\n",
       "    }\n",
       "\n",
       "    .dataframe tbody tr th {\n",
       "        vertical-align: top;\n",
       "    }\n",
       "\n",
       "    .dataframe thead th {\n",
       "        text-align: right;\n",
       "    }\n",
       "</style>\n",
       "<table border=\"1\" class=\"dataframe\">\n",
       "  <thead>\n",
       "    <tr style=\"text-align: right;\">\n",
       "      <th></th>\n",
       "      <th>review_id</th>\n",
       "      <th>business_id</th>\n",
       "      <th>text</th>\n",
       "      <th>date</th>\n",
       "    </tr>\n",
       "  </thead>\n",
       "  <tbody>\n",
       "    <tr>\n",
       "      <th>0</th>\n",
       "      <td>X6EkKbJpOgcwO7zBHVtLrw</td>\n",
       "      <td>XiATUgtzkuxn1IoOwFy1Wg</td>\n",
       "      <td>5 stars every time. Only reason you wouldn't l...</td>\n",
       "      <td>2022-01-08 19:52:50</td>\n",
       "    </tr>\n",
       "    <tr>\n",
       "      <th>1</th>\n",
       "      <td>-2yNYo2eVEqdeV5dELFPLQ</td>\n",
       "      <td>hA8c2kWI_8DXZE1jyVxlBQ</td>\n",
       "      <td>GREAT staff and GREAT food!! My boyfriend had ...</td>\n",
       "      <td>2022-01-02 00:48:22</td>\n",
       "    </tr>\n",
       "    <tr>\n",
       "      <th>2</th>\n",
       "      <td>LIRhXeeHR2RSFB2SRJjIPg</td>\n",
       "      <td>mRKxPMk9jHgCj07MwAMUzw</td>\n",
       "      <td>Got a chicken bowl. The flavor wasn't bad but ...</td>\n",
       "      <td>2022-01-16 19:48:40</td>\n",
       "    </tr>\n",
       "    <tr>\n",
       "      <th>3</th>\n",
       "      <td>MAbABE4lnYuKdPWvDUCUOA</td>\n",
       "      <td>fgtnOag-DaTsZTHPsgnWSQ</td>\n",
       "      <td>Pick out this place by Yelp. Food was just so-...</td>\n",
       "      <td>2022-01-17 18:04:06</td>\n",
       "    </tr>\n",
       "    <tr>\n",
       "      <th>4</th>\n",
       "      <td>FOr1Q4dZByod684CHRRphA</td>\n",
       "      <td>vHr8qhM4CXYB3Ol_9yS6QQ</td>\n",
       "      <td>Sushi pier has been on our list for a while, s...</td>\n",
       "      <td>2022-01-06 20:00:34</td>\n",
       "    </tr>\n",
       "  </tbody>\n",
       "</table>\n",
       "</div>"
      ],
      "text/plain": [
       "                review_id             business_id  \\\n",
       "0  X6EkKbJpOgcwO7zBHVtLrw  XiATUgtzkuxn1IoOwFy1Wg   \n",
       "1  -2yNYo2eVEqdeV5dELFPLQ  hA8c2kWI_8DXZE1jyVxlBQ   \n",
       "2  LIRhXeeHR2RSFB2SRJjIPg  mRKxPMk9jHgCj07MwAMUzw   \n",
       "3  MAbABE4lnYuKdPWvDUCUOA  fgtnOag-DaTsZTHPsgnWSQ   \n",
       "4  FOr1Q4dZByod684CHRRphA  vHr8qhM4CXYB3Ol_9yS6QQ   \n",
       "\n",
       "                                                text                 date  \n",
       "0  5 stars every time. Only reason you wouldn't l...  2022-01-08 19:52:50  \n",
       "1  GREAT staff and GREAT food!! My boyfriend had ...  2022-01-02 00:48:22  \n",
       "2  Got a chicken bowl. The flavor wasn't bad but ...  2022-01-16 19:48:40  \n",
       "3  Pick out this place by Yelp. Food was just so-...  2022-01-17 18:04:06  \n",
       "4  Sushi pier has been on our list for a while, s...  2022-01-06 20:00:34  "
      ]
     },
     "execution_count": 4,
     "metadata": {},
     "output_type": "execute_result"
    }
   ],
   "source": [
    "reviews.head()"
   ]
  },
  {
   "cell_type": "markdown",
   "id": "c370286d-c297-4072-a672-eecf2f010730",
   "metadata": {},
   "source": [
    "## We Need To Annotate Our Data\n",
    "\n",
    "We need to assign a positive or negative sentiment to each review in order to train our classifier. You're each going to annotate 24 reviews as positive or negative. This will give us a dataset of 192 reviews, which we'll split into test and train. (80% train, 20% test) And then we'll pass the final 8 unseen reviews into the classifier to see how we did!\n",
    "\n",
    "In order to annotate the data you'll add a column, \"sentiment\" to the CSV for your assigned rows.\n",
    "\n",
    "The possible annotations for the column are: `pos` or `neg`."
   ]
  },
  {
   "cell_type": "code",
   "execution_count": 5,
   "id": "e2b923a7-556e-4fe2-8b8f-d6bee9fd6165",
   "metadata": {},
   "outputs": [],
   "source": [
    "# Saving this for combining our CSVs!\n",
    "train = [\n",
    "    (\"I love this sandwich.\", \"pos\"),\n",
    "    (\"this is an amazing place!\", \"pos\"),\n",
    "    (\"I feel very good about these beers.\", \"pos\"),\n",
    "    (\"this is my best work.\", \"pos\"),\n",
    "    (\"what an awesome view\", \"pos\"),\n",
    "    (\"I do not like this restaurant\", \"neg\"),\n",
    "    (\"I am tired of this stuff.\", \"neg\"),\n",
    "    (\"I can't deal with this\", \"neg\"),\n",
    "    (\"he is my sworn enemy!\", \"neg\"),\n",
    "    (\"my boss is horrible.\", \"neg\"),\n",
    "]\n",
    "test = [\n",
    "    (\"the beer was good.\", \"pos\"),\n",
    "    (\"I do not enjoy my job\", \"neg\"),\n",
    "    (\"I ain't feeling dandy today.\", \"neg\"),\n",
    "    (\"I feel amazing!\", \"pos\"),\n",
    "    (\"Gary is a friend of mine.\", \"pos\"),\n",
    "    (\"I can't believe I'm doing this.\", \"neg\"),\n",
    "]"
   ]
  },
  {
   "cell_type": "markdown",
   "id": "c338809e-f4c7-4740-8e8f-ad581a81b908",
   "metadata": {},
   "source": [
    "## Train Our Classifier"
   ]
  },
  {
   "cell_type": "code",
   "execution_count": 6,
   "id": "0079bcbd-fca4-43b7-8aef-1c2a982ca097",
   "metadata": {},
   "outputs": [],
   "source": [
    "cl = NaiveBayesClassifier(train)"
   ]
  },
  {
   "cell_type": "markdown",
   "id": "9b89c5eb-8da0-47fd-b0ee-2503b8726472",
   "metadata": {},
   "source": [
    "Let's see what's driving the model:"
   ]
  },
  {
   "cell_type": "code",
   "execution_count": 7,
   "id": "00da9e0d-7546-4727-9e7f-b30d86eb43f3",
   "metadata": {},
   "outputs": [
    {
     "name": "stdout",
     "output_type": "stream",
     "text": [
      "Most Informative Features\n",
      "            contains(my) = True              neg : pos    =      1.7 : 1.0\n",
      "            contains(an) = False             neg : pos    =      1.6 : 1.0\n",
      "             contains(I) = False             pos : neg    =      1.4 : 1.0\n",
      "             contains(I) = True              neg : pos    =      1.4 : 1.0\n",
      "            contains(my) = False             pos : neg    =      1.3 : 1.0\n"
     ]
    }
   ],
   "source": [
    "cl.show_informative_features(5)"
   ]
  },
  {
   "cell_type": "markdown",
   "id": "8d3810e2-1e2b-493f-88cc-b287b3a554f1",
   "metadata": {},
   "source": [
    "## Remember Our Accuracy Metric?"
   ]
  },
  {
   "cell_type": "code",
   "execution_count": 8,
   "id": "aa8ab17a-b22c-4575-ba54-8ea127e89bb5",
   "metadata": {},
   "outputs": [
    {
     "data": {
      "text/plain": [
       "0.8333333333333334"
      ]
     },
     "execution_count": 8,
     "metadata": {},
     "output_type": "execute_result"
    }
   ],
   "source": [
    "cl.accuracy(test)"
   ]
  },
  {
   "cell_type": "markdown",
   "id": "c7ad54d4-f6c8-49a3-95a0-536a849a881f",
   "metadata": {},
   "source": [
    "## Let's Try Something Completely New!"
   ]
  },
  {
   "cell_type": "code",
   "execution_count": 9,
   "id": "37aa2fc3-1b1a-41c3-a54d-3c2c40261ad4",
   "metadata": {},
   "outputs": [
    {
     "data": {
      "text/plain": [
       "'pos'"
      ]
     },
     "execution_count": 9,
     "metadata": {},
     "output_type": "execute_result"
    }
   ],
   "source": [
    "cl.classify(\"This is an amazing library!\")"
   ]
  },
  {
   "cell_type": "code",
   "execution_count": 10,
   "id": "17e6a118-c5bc-485f-aa9f-5eff4d9c8e4c",
   "metadata": {},
   "outputs": [],
   "source": [
    "prob_dist = cl.prob_classify(\"This one's a doozy.\") # this also shows us the parts"
   ]
  },
  {
   "cell_type": "code",
   "execution_count": 11,
   "id": "f9dd8f42-43f7-4652-bc1e-252d29278afc",
   "metadata": {},
   "outputs": [
    {
     "data": {
      "text/plain": [
       "(0.6311475409836058, 0.3688524590163945)"
      ]
     },
     "execution_count": 11,
     "metadata": {},
     "output_type": "execute_result"
    }
   ],
   "source": [
    "prob_dist.prob('pos'), prob_dist.prob('neg')"
   ]
  },
  {
   "cell_type": "markdown",
   "id": "2e5fae14-217a-4598-bbf3-c5a7ca49a22c",
   "metadata": {},
   "source": [
    "---\n",
    "\n",
    "---\n",
    "\n",
    "---"
   ]
  }
 ],
 "metadata": {
  "kernelspec": {
   "display_name": "Python 3 (ipykernel)",
   "language": "python",
   "name": "python3"
  },
  "language_info": {
   "codemirror_mode": {
    "name": "ipython",
    "version": 3
   },
   "file_extension": ".py",
   "mimetype": "text/x-python",
   "name": "python",
   "nbconvert_exporter": "python",
   "pygments_lexer": "ipython3",
   "version": "3.12.6"
  }
 },
 "nbformat": 4,
 "nbformat_minor": 5
}
