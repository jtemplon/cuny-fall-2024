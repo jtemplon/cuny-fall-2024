{
 "cells": [
  {
   "cell_type": "markdown",
   "id": "a3cd97a6-0648-44d1-a810-4261f745e5db",
   "metadata": {},
   "source": [
    "# Train A Sentiment Classifier\n",
    "\n",
    "The Yelp dataset is generated from the [Yelp academic download](https://www.yelp.com/dataset/download). The lesson is derived from this example in [Textblob's documentation](https://textblob.readthedocs.io/en/dev/classifiers.html#classifiers)."
   ]
  },
  {
   "cell_type": "code",
   "execution_count": 1,
   "id": "9b24b66e-e505-475b-b280-ba1a9be69b2b",
   "metadata": {},
   "outputs": [],
   "source": [
    "import pandas as pd\n",
    "from textblob.classifiers import NaiveBayesClassifier"
   ]
  },
  {
   "cell_type": "code",
   "execution_count": 2,
   "id": "64a2c662-52de-495b-98ca-d8956d41597d",
   "metadata": {},
   "outputs": [],
   "source": [
    "# import nltk\n",
    "# nltk.download('punkt_tab') # we need to do this once for the tokenizer"
   ]
  },
  {
   "cell_type": "code",
   "execution_count": 3,
   "id": "f6e94cec-1db0-48fa-8d47-bffaa71babe3",
   "metadata": {},
   "outputs": [],
   "source": [
    "reviews = pd.read_csv('small_yelp_reviews.csv')"
   ]
  },
  {
   "cell_type": "code",
   "execution_count": 4,
   "id": "2f81a4d4-549a-47d8-85c4-da5e61f09076",
   "metadata": {},
   "outputs": [
    {
     "data": {
      "text/html": [
       "<div>\n",
       "<style scoped>\n",
       "    .dataframe tbody tr th:only-of-type {\n",
       "        vertical-align: middle;\n",
       "    }\n",
       "\n",
       "    .dataframe tbody tr th {\n",
       "        vertical-align: top;\n",
       "    }\n",
       "\n",
       "    .dataframe thead th {\n",
       "        text-align: right;\n",
       "    }\n",
       "</style>\n",
       "<table border=\"1\" class=\"dataframe\">\n",
       "  <thead>\n",
       "    <tr style=\"text-align: right;\">\n",
       "      <th></th>\n",
       "      <th>review_id</th>\n",
       "      <th>business_id</th>\n",
       "      <th>text</th>\n",
       "      <th>date</th>\n",
       "    </tr>\n",
       "  </thead>\n",
       "  <tbody>\n",
       "    <tr>\n",
       "      <th>0</th>\n",
       "      <td>X6EkKbJpOgcwO7zBHVtLrw</td>\n",
       "      <td>XiATUgtzkuxn1IoOwFy1Wg</td>\n",
       "      <td>5 stars every time. Only reason you wouldn't l...</td>\n",
       "      <td>2022-01-08 19:52:50</td>\n",
       "    </tr>\n",
       "    <tr>\n",
       "      <th>1</th>\n",
       "      <td>-2yNYo2eVEqdeV5dELFPLQ</td>\n",
       "      <td>hA8c2kWI_8DXZE1jyVxlBQ</td>\n",
       "      <td>GREAT staff and GREAT food!! My boyfriend had ...</td>\n",
       "      <td>2022-01-02 00:48:22</td>\n",
       "    </tr>\n",
       "    <tr>\n",
       "      <th>2</th>\n",
       "      <td>LIRhXeeHR2RSFB2SRJjIPg</td>\n",
       "      <td>mRKxPMk9jHgCj07MwAMUzw</td>\n",
       "      <td>Got a chicken bowl. The flavor wasn't bad but ...</td>\n",
       "      <td>2022-01-16 19:48:40</td>\n",
       "    </tr>\n",
       "    <tr>\n",
       "      <th>3</th>\n",
       "      <td>MAbABE4lnYuKdPWvDUCUOA</td>\n",
       "      <td>fgtnOag-DaTsZTHPsgnWSQ</td>\n",
       "      <td>Pick out this place by Yelp. Food was just so-...</td>\n",
       "      <td>2022-01-17 18:04:06</td>\n",
       "    </tr>\n",
       "    <tr>\n",
       "      <th>4</th>\n",
       "      <td>FOr1Q4dZByod684CHRRphA</td>\n",
       "      <td>vHr8qhM4CXYB3Ol_9yS6QQ</td>\n",
       "      <td>Sushi pier has been on our list for a while, s...</td>\n",
       "      <td>2022-01-06 20:00:34</td>\n",
       "    </tr>\n",
       "  </tbody>\n",
       "</table>\n",
       "</div>"
      ],
      "text/plain": [
       "                review_id             business_id  \\\n",
       "0  X6EkKbJpOgcwO7zBHVtLrw  XiATUgtzkuxn1IoOwFy1Wg   \n",
       "1  -2yNYo2eVEqdeV5dELFPLQ  hA8c2kWI_8DXZE1jyVxlBQ   \n",
       "2  LIRhXeeHR2RSFB2SRJjIPg  mRKxPMk9jHgCj07MwAMUzw   \n",
       "3  MAbABE4lnYuKdPWvDUCUOA  fgtnOag-DaTsZTHPsgnWSQ   \n",
       "4  FOr1Q4dZByod684CHRRphA  vHr8qhM4CXYB3Ol_9yS6QQ   \n",
       "\n",
       "                                                text                 date  \n",
       "0  5 stars every time. Only reason you wouldn't l...  2022-01-08 19:52:50  \n",
       "1  GREAT staff and GREAT food!! My boyfriend had ...  2022-01-02 00:48:22  \n",
       "2  Got a chicken bowl. The flavor wasn't bad but ...  2022-01-16 19:48:40  \n",
       "3  Pick out this place by Yelp. Food was just so-...  2022-01-17 18:04:06  \n",
       "4  Sushi pier has been on our list for a while, s...  2022-01-06 20:00:34  "
      ]
     },
     "execution_count": 4,
     "metadata": {},
     "output_type": "execute_result"
    }
   ],
   "source": [
    "reviews.head()"
   ]
  },
  {
   "cell_type": "code",
   "execution_count": 5,
   "id": "5176a113-cfc5-4ed7-bf6a-1b65cb8345b5",
   "metadata": {},
   "outputs": [
    {
     "data": {
      "text/plain": [
       "(200, 4)"
      ]
     },
     "execution_count": 5,
     "metadata": {},
     "output_type": "execute_result"
    }
   ],
   "source": [
    "reviews.shape"
   ]
  },
  {
   "cell_type": "markdown",
   "id": "c370286d-c297-4072-a672-eecf2f010730",
   "metadata": {},
   "source": [
    "## We Need To Annotate Our Data\n",
    "\n",
    "We need to assign a positive or negative sentiment to each review in order to train our classifier. You're each going to annotate 24 reviews as positive or negative. This will give us a dataset of 192 reviews, which we'll split into test and train. (80% train, 20% test) And then we'll pass the final 8 unseen reviews into the classifier to see how we did!\n",
    "\n",
    "In order to annotate the data you'll add a column, \"sentiment\" to the CSV for your assigned rows.\n",
    "\n",
    "The possible annotations for the column are: `pos` or `neg`."
   ]
  },
  {
   "cell_type": "code",
   "execution_count": 6,
   "id": "0835e88f-cb06-4c3f-ad03-96d768cf9505",
   "metadata": {},
   "outputs": [],
   "source": [
    "import glob"
   ]
  },
  {
   "cell_type": "code",
   "execution_count": 28,
   "id": "a3c7a22e-1fed-44ca-87a2-f54b4d0bebb0",
   "metadata": {},
   "outputs": [],
   "source": [
    "annotated_data = (\n",
    "    pd\n",
    "    .concat( [ \n",
    "        pd\n",
    "        .read_csv(\n",
    "            f, \n",
    "            names=['review_id', 'business_id', 'text', 'date', 'sentiment']\n",
    "        )\n",
    "        .dropna(subset=['sentiment'])\n",
    "        .assign(annotator = f.split(\"_\")[-1].rstrip('.csv')) for f in glob.glob('./manually-annotated-reviews/*') \n",
    "    ] )\n",
    ")"
   ]
  },
  {
   "cell_type": "code",
   "execution_count": 29,
   "id": "d47e4b3a-5540-4715-86f6-7034ebc0c9e6",
   "metadata": {},
   "outputs": [
    {
     "data": {
      "text/plain": [
       "annotator\n",
       "NK            35\n",
       "cf            26\n",
       "reviews-MR    25\n",
       "borja         25\n",
       "LM            24\n",
       "msh           23\n",
       "GSB           23\n",
       "g             16\n",
       "Name: count, dtype: int64"
      ]
     },
     "execution_count": 29,
     "metadata": {},
     "output_type": "execute_result"
    }
   ],
   "source": [
    "annotated_data['annotator'].value_counts()"
   ]
  },
  {
   "cell_type": "code",
   "execution_count": 30,
   "id": "d829074a-5738-4862-b58b-697b15d7fd41",
   "metadata": {},
   "outputs": [
    {
     "data": {
      "text/plain": [
       "(197, 6)"
      ]
     },
     "execution_count": 30,
     "metadata": {},
     "output_type": "execute_result"
    }
   ],
   "source": [
    "annotated_data.shape"
   ]
  },
  {
   "cell_type": "code",
   "execution_count": 31,
   "id": "2a85a3a0-2eff-475f-8077-3075e8b98cfe",
   "metadata": {},
   "outputs": [],
   "source": [
    "annotated_data.to_csv('annoted_data.csv', index=None)"
   ]
  },
  {
   "cell_type": "code",
   "execution_count": 40,
   "id": "ca567048-d7f9-49c2-9ebc-58d7969f9087",
   "metadata": {},
   "outputs": [],
   "source": [
    "annotated_data = pd.read_csv('./annoted_data.csv')"
   ]
  },
  {
   "cell_type": "code",
   "execution_count": 99,
   "id": "573eaf7f-52cc-4d4e-8792-c545a7c2d422",
   "metadata": {},
   "outputs": [],
   "source": [
    "clean_df = annotated_data.loc[lambda x: x['review_id'] != 'review_id'].copy()\n",
    "clean_df['sentiment'] = clean_df['sentiment'].apply(lambda x: x.strip() if x in ['pos', 'neg'] else 'pos')"
   ]
  },
  {
   "cell_type": "code",
   "execution_count": 100,
   "id": "4d98ad43-4f5d-43db-8c4e-279f178211d3",
   "metadata": {},
   "outputs": [
    {
     "data": {
      "text/html": [
       "<div>\n",
       "<style scoped>\n",
       "    .dataframe tbody tr th:only-of-type {\n",
       "        vertical-align: middle;\n",
       "    }\n",
       "\n",
       "    .dataframe tbody tr th {\n",
       "        vertical-align: top;\n",
       "    }\n",
       "\n",
       "    .dataframe thead th {\n",
       "        text-align: right;\n",
       "    }\n",
       "</style>\n",
       "<table border=\"1\" class=\"dataframe\">\n",
       "  <thead>\n",
       "    <tr style=\"text-align: right;\">\n",
       "      <th></th>\n",
       "      <th>review_id</th>\n",
       "      <th>business_id</th>\n",
       "      <th>text</th>\n",
       "      <th>date</th>\n",
       "      <th>sentiment</th>\n",
       "      <th>annotator</th>\n",
       "    </tr>\n",
       "  </thead>\n",
       "  <tbody>\n",
       "    <tr>\n",
       "      <th>1</th>\n",
       "      <td>LaO2ZSqc6rN3AZmDXcgU2Q</td>\n",
       "      <td>FpyjR9TiaO3JyynpF-y-7g</td>\n",
       "      <td>Service and food are meh. I came here once in ...</td>\n",
       "      <td>2022-01-08 14:52:13</td>\n",
       "      <td>neg</td>\n",
       "      <td>cf</td>\n",
       "    </tr>\n",
       "    <tr>\n",
       "      <th>2</th>\n",
       "      <td>m8wfNY6s0YaQCF08Ad-row</td>\n",
       "      <td>3YqUe2FTCQr0pPVK8oCv6Q</td>\n",
       "      <td>After so much talk from my sister, I had to co...</td>\n",
       "      <td>2022-01-12 2:10:19</td>\n",
       "      <td>pos</td>\n",
       "      <td>cf</td>\n",
       "    </tr>\n",
       "    <tr>\n",
       "      <th>3</th>\n",
       "      <td>FgepcIqW9uWMBRGX_4xCig</td>\n",
       "      <td>dECEn8-37NHSyZbq2a1nQw</td>\n",
       "      <td>Amazing gem in the rough! They have a variety ...</td>\n",
       "      <td>2022-01-15 20:47:05</td>\n",
       "      <td>pos</td>\n",
       "      <td>cf</td>\n",
       "    </tr>\n",
       "    <tr>\n",
       "      <th>4</th>\n",
       "      <td>31DWipZCMv4M8RAU7LIb1Q</td>\n",
       "      <td>ttDkz3SO_58bAkEp7rSsNA</td>\n",
       "      <td>Hidden is key word.    Upper floor of gym buil...</td>\n",
       "      <td>2022-01-09 21:45:48</td>\n",
       "      <td>pos</td>\n",
       "      <td>cf</td>\n",
       "    </tr>\n",
       "    <tr>\n",
       "      <th>5</th>\n",
       "      <td>9sMReBdqs47Mf3mrA2CzZA</td>\n",
       "      <td>1VPpbFms0augW1raf8cycw</td>\n",
       "      <td>The staff was friendly and helpful, the boat r...</td>\n",
       "      <td>2022-01-16 23:51:15</td>\n",
       "      <td>neg</td>\n",
       "      <td>cf</td>\n",
       "    </tr>\n",
       "  </tbody>\n",
       "</table>\n",
       "</div>"
      ],
      "text/plain": [
       "                review_id             business_id  \\\n",
       "1  LaO2ZSqc6rN3AZmDXcgU2Q  FpyjR9TiaO3JyynpF-y-7g   \n",
       "2  m8wfNY6s0YaQCF08Ad-row  3YqUe2FTCQr0pPVK8oCv6Q   \n",
       "3  FgepcIqW9uWMBRGX_4xCig  dECEn8-37NHSyZbq2a1nQw   \n",
       "4  31DWipZCMv4M8RAU7LIb1Q  ttDkz3SO_58bAkEp7rSsNA   \n",
       "5  9sMReBdqs47Mf3mrA2CzZA  1VPpbFms0augW1raf8cycw   \n",
       "\n",
       "                                                text                 date  \\\n",
       "1  Service and food are meh. I came here once in ...  2022-01-08 14:52:13   \n",
       "2  After so much talk from my sister, I had to co...   2022-01-12 2:10:19   \n",
       "3  Amazing gem in the rough! They have a variety ...  2022-01-15 20:47:05   \n",
       "4  Hidden is key word.    Upper floor of gym buil...  2022-01-09 21:45:48   \n",
       "5  The staff was friendly and helpful, the boat r...  2022-01-16 23:51:15   \n",
       "\n",
       "  sentiment annotator  \n",
       "1       neg        cf  \n",
       "2       pos        cf  \n",
       "3       pos        cf  \n",
       "4       pos        cf  \n",
       "5       neg        cf  "
      ]
     },
     "execution_count": 100,
     "metadata": {},
     "output_type": "execute_result"
    }
   ],
   "source": [
    "clean_df.head()"
   ]
  },
  {
   "cell_type": "code",
   "execution_count": 101,
   "id": "3f966862-b200-4052-8cfc-2741c538a5fa",
   "metadata": {},
   "outputs": [
    {
     "data": {
      "text/plain": [
       "(193, 6)"
      ]
     },
     "execution_count": 101,
     "metadata": {},
     "output_type": "execute_result"
    }
   ],
   "source": [
    "clean_df.shape"
   ]
  },
  {
   "cell_type": "code",
   "execution_count": 102,
   "id": "ba07481d-8176-4950-b029-9ed262ea426a",
   "metadata": {},
   "outputs": [],
   "source": [
    "clean_df = clean_df.sample(frac=1, random_state=42).reset_index(drop=True)"
   ]
  },
  {
   "cell_type": "code",
   "execution_count": 103,
   "id": "ebb47d36-2daf-4057-97a9-65becd20e93d",
   "metadata": {},
   "outputs": [
    {
     "data": {
      "text/html": [
       "<div>\n",
       "<style scoped>\n",
       "    .dataframe tbody tr th:only-of-type {\n",
       "        vertical-align: middle;\n",
       "    }\n",
       "\n",
       "    .dataframe tbody tr th {\n",
       "        vertical-align: top;\n",
       "    }\n",
       "\n",
       "    .dataframe thead th {\n",
       "        text-align: right;\n",
       "    }\n",
       "</style>\n",
       "<table border=\"1\" class=\"dataframe\">\n",
       "  <thead>\n",
       "    <tr style=\"text-align: right;\">\n",
       "      <th></th>\n",
       "      <th>review_id</th>\n",
       "      <th>business_id</th>\n",
       "      <th>text</th>\n",
       "      <th>date</th>\n",
       "      <th>sentiment</th>\n",
       "      <th>annotator</th>\n",
       "    </tr>\n",
       "  </thead>\n",
       "  <tbody>\n",
       "    <tr>\n",
       "      <th>0</th>\n",
       "      <td>XUeXPZG2ZtqEeP3J936TQA</td>\n",
       "      <td>KHQXmUFiAD0FHvrMSakJBA</td>\n",
       "      <td>Came here on a weeknight, they allowed us to c...</td>\n",
       "      <td>2022-01-09 19:03:24</td>\n",
       "      <td>pos</td>\n",
       "      <td>LM</td>\n",
       "    </tr>\n",
       "    <tr>\n",
       "      <th>1</th>\n",
       "      <td>HfHjM6sZqCE26Bv1OXpdrw</td>\n",
       "      <td>5MusOgK528q7uyGw0H9MVQ</td>\n",
       "      <td>Possibly the worst food I've ever had. You're ...</td>\n",
       "      <td>2022-01-12 00:51:49</td>\n",
       "      <td>neg</td>\n",
       "      <td>NK</td>\n",
       "    </tr>\n",
       "    <tr>\n",
       "      <th>2</th>\n",
       "      <td>AhZHHXu-f46v4zcv6G-9WA</td>\n",
       "      <td>dG-gZOWzn8iO1Rvv_fbXxA</td>\n",
       "      <td>I love coming here whether it's for food or dr...</td>\n",
       "      <td>2022-01-07 16:11:22</td>\n",
       "      <td>pos</td>\n",
       "      <td>msh</td>\n",
       "    </tr>\n",
       "    <tr>\n",
       "      <th>3</th>\n",
       "      <td>LL-N7hmC-HfTEbYKwHLYYA</td>\n",
       "      <td>GXFMD0Z4jEVZBCsbPf4CTQ</td>\n",
       "      <td>Everything was delish. And I'm pretty sure we ...</td>\n",
       "      <td>2022-01-14 22:00:31</td>\n",
       "      <td>pos</td>\n",
       "      <td>NK</td>\n",
       "    </tr>\n",
       "    <tr>\n",
       "      <th>4</th>\n",
       "      <td>4_YLMltSgfLpbOIyRn7dZQ</td>\n",
       "      <td>9Abj5AABzqdXREl1wzSudg</td>\n",
       "      <td>Visiting Peddlers Village for the 1st time. We...</td>\n",
       "      <td>1/16/22 3:22</td>\n",
       "      <td>pos</td>\n",
       "      <td>GSB</td>\n",
       "    </tr>\n",
       "  </tbody>\n",
       "</table>\n",
       "</div>"
      ],
      "text/plain": [
       "                review_id             business_id  \\\n",
       "0  XUeXPZG2ZtqEeP3J936TQA  KHQXmUFiAD0FHvrMSakJBA   \n",
       "1  HfHjM6sZqCE26Bv1OXpdrw  5MusOgK528q7uyGw0H9MVQ   \n",
       "2  AhZHHXu-f46v4zcv6G-9WA  dG-gZOWzn8iO1Rvv_fbXxA   \n",
       "3  LL-N7hmC-HfTEbYKwHLYYA  GXFMD0Z4jEVZBCsbPf4CTQ   \n",
       "4  4_YLMltSgfLpbOIyRn7dZQ  9Abj5AABzqdXREl1wzSudg   \n",
       "\n",
       "                                                text                 date  \\\n",
       "0  Came here on a weeknight, they allowed us to c...  2022-01-09 19:03:24   \n",
       "1  Possibly the worst food I've ever had. You're ...  2022-01-12 00:51:49   \n",
       "2  I love coming here whether it's for food or dr...  2022-01-07 16:11:22   \n",
       "3  Everything was delish. And I'm pretty sure we ...  2022-01-14 22:00:31   \n",
       "4  Visiting Peddlers Village for the 1st time. We...         1/16/22 3:22   \n",
       "\n",
       "  sentiment annotator  \n",
       "0       pos        LM  \n",
       "1       neg        NK  \n",
       "2       pos       msh  \n",
       "3       pos        NK  \n",
       "4       pos       GSB  "
      ]
     },
     "execution_count": 103,
     "metadata": {},
     "output_type": "execute_result"
    }
   ],
   "source": [
    "clean_df.head()"
   ]
  },
  {
   "cell_type": "code",
   "execution_count": 104,
   "id": "e2b923a7-556e-4fe2-8b8f-d6bee9fd6165",
   "metadata": {},
   "outputs": [],
   "source": [
    "# Saving this for combining our CSVs!\n",
    "train = [ (r['text'], r['sentiment'].strip()) for i, r in clean_df[:154][['text', 'sentiment']].iterrows() ]\n",
    "test = [ (r['text'], r['sentiment'].strip()) for i, r in clean_df[154:][['text', 'sentiment']].iterrows() ]"
   ]
  },
  {
   "cell_type": "code",
   "execution_count": 105,
   "id": "4dd2710a-3b93-4bea-9516-f7338aa02e23",
   "metadata": {},
   "outputs": [
    {
     "data": {
      "text/plain": [
       "[('Came here on a weeknight, they allowed us to choose if we wanted to sit inside or in the outside heated tent. We sat outside and it was cozy and secluded which was amazing. The crab cakes and oysters were the best out of the four things we ordered. They have a great happy hour, definitely recommend the chicken platter and mushroom flatbread. Will definitely be back when we are in Philly again!',\n",
       "  'pos'),\n",
       " (\"Possibly the worst food I've ever had. You're better off buying the Boston market TV dinner or literally anything else.\",\n",
       "  'neg'),\n",
       " (\"I love coming here whether it's for food or drinks. The staff is typically friendly; last time I was there the bartender was super engaging. The aesthetic is also pleasing. I'm never waiting long.\",\n",
       "  'pos'),\n",
       " (\"Everything was delish. And I'm pretty sure we ordered half the menu. The only negative thing I can say, and it's really just a preference.. The peach cobbler wasn't my favorite. Kind of dry.\",\n",
       "  'pos'),\n",
       " (\"Visiting Peddlers Village for the 1st time. We were courteously greeted by a man at the register. When we asked for seating the gentlemen informed us that there's a room next to their wine tasting area opened. It was very SPACIOUS and wasn't too crowded so we got to rest our feet and enjoy our mulled wines there.\\n\\nI LOVE MULLED WINE AND couldn't decide between their selection.....Spiced Apple or Holiday Spirit. The host at the wine tasting bar offered samples to assist with my decision. HOLIDAY SPIRIT was tasty and kept us very warm. It was FLAVORFUL and PERFECTLY spiced.  We had a wonderful experience from our greeting to grabbing our mulled wines to go! :) \\n\\nI would recommend making a stop here. Overall service and wine was very GOOOOD!!\",\n",
       "  'pos'),\n",
       " ('* Scam Alert*\\n\\nAll transactions are via Venmo only\\n\\nI ordered a fireball and bartender said $5 and I repeated back $5? She confirmed. \\n\\nThen after I pay - via venmo - she tells me the shot costs $10. I asked to see a receipt and she says venmo is my receipt. \\n\\nBad business practices. Too bad the venue itself is unique with 3 floors with different bars. The 3rd floor had a poetry event the night we went.',\n",
       "  'neg'),\n",
       " (\"This place has all around feel good food. It's my third time coming back and the million dollar bacon definitely is a treat. Nice on the inside and sweet staff got the same waitress twice and I absolutely love her. The pancakes are huge and everything is delicious!\",\n",
       "  'pos'),\n",
       " (\"Dropped in here for my spouse to grab a quick bite & maybe a little dessert.  While our waitress was very personable and polite, the food was simply basic and the portions were gigantic.  We ordered a simple pasta dish and a side of vegetables.  The pasta dish was enough to feed a family of four and the side veggies were way over cooked. The dessert we ordered, a berry apple tart, looked and tasted like it had been sitting for too long and was gooey and slimy in the center.  Perhaps we were there on an off night.  With so many other options, I'm not sure we'd eat here again.\",\n",
       "  'neg'),\n",
       " (\"This place is really good. \\n\\nMy wife loved the sausage sandwich. They slice the sausage down with the peppers and onions. It makes the sandwich look a little slender as opposed to serving it intact, but I assure you it had enough. She needed a fork to finish the insides. I tasted and I concur. That's a worthy sandwich. \\n\\nI tried the cheeseburger. Just went for a basic single with cheese to see how they did it. It had a decent enough amount of beef. I didn't feel like it skimped. It's on par with the Zac's and Nifty Fifty's level, smash style. I'd keep it in my burger rotation. \\n\\nI also tried a Texas Tommy. Great flavor. The bacon crisped nice around the dog. Just the way I like it. \\n\\nWe all loved the fries. Excellent shoestring style. Dare I say on par with McDonalds. \\n\\nNow my son... he's a little picky. And he's recently learned about the Portnoy pizza scale. So he scores everything now. He gave the cheeseburger a 6.6. Said it was good but not the best he's had. But the hot dog was an 8.9 which was excellent. And a 10 on the fries (rookie score). \\n\\nHe's tough. He's a picky 8 year old. Get on his case not mine. \\n\\nFed the whole family for about $35 bucks too with drinks. No complaints there.\",\n",
       "  'pos'),\n",
       " (\"We've been coming to Nippon Tei for a few years now and it's pretty much always a great experience. Their hot food is great and the nigiri and sashimi are always solid. Their rolls aren't always on the same level as the rest of the food -\\nthe flavoring in the nigiri always seems really thoughtful and the rice is superb, but the rolled sushi doesn't always match that. I'd go for simpler rolls here or skip them entirely and focus on the parts of their menu that really shine.\\n\\nThey do require proof of vaccination to dine in. They're very, VERY public about it, so there's really no need to angrily flounce out of the restaurant like the dude that was in front of me the last time we dined in...and yet. The FOH folks are super friendly and professional despite the constant stream of flak they must be taking. Overall, definitely recommend.\",\n",
       "  'pos'),\n",
       " (\"I'm going to preface this by saying as a vegetarian - I would not recommend this place for dinner. However, it is great for brunch especially on the weekend when there is live music - the atmosphere can't be beat. The omelet, French toast, and beignets are great! You definitely feel like you're in NOLA when you are there.\",\n",
       "  'pos'),\n",
       " ('Horrible service. Staff is completely unhelpful and rude. Waited over 30 minutes for a table when the wait time was quoted at 15 only to be seated outside in a direct sunlight table that was open the entire time. When asked to speak with manager was told he was busy. When asked for one of the open tables inside was told we would need to go back on the waitlist at the bottom of the list.',\n",
       "  'neg'),\n",
       " ('Our friends ordered us a plain king cake via Uber eats and wow! It was fresh, delicious, moist, fluffy, and perfectly sweetened. As someone said, the ratio of icing to dough is spot on. Addictive. Give it a try!',\n",
       "  'pos'),\n",
       " ('Ordered a sushi \"burrito\" and some rolls. All i can say is that they were tasteless, also the rice was super hard which tells me one thing, it was cooked the day before or longer but definitely not fresh. I\\'ve had better sushi at buffets and eat more and spend less!!',\n",
       "  'neg'),\n",
       " (\"New Year has me motivated and I've been decluttering my home.  Fred & Sons crew was on-time and quickly got large items out of my way. Crew was friendly and cost of service was in line with my expectations.\",\n",
       "  'pos'),\n",
       " ('Took two pairs of shoes and a pair of boots and today and to my surprise they turned out same day service. I am very happy with the product as well as the friendly staff. This was a good experience.',\n",
       "  'pos'),\n",
       " ('First time in tonight after living in NPR for a year! All I can say is I wish We went there sooner, got the taco special and enchiladas and both were amazing!!! I definitely recommend stopping by and enjoying a nice lunch or dinner!! Took around 15 minutes to receive our order (during dinner rush) . Will definitely be back!!!!',\n",
       "  'pos'),\n",
       " (\"We took our dog to this groomer three times. The first time was okay, second very good and third really dissatisfying. We have a Havanese who really needs a certified groomer. This groomer does not clip our dogs nails unless we expressly ask for it, and even then it's a chop job. The last grooming appointment was less than an hour and, as the dog's hair started growing out, it became evident it was just an electric clipper job done with very little care. We are not going back and will not recommend\",\n",
       "  'pos'),\n",
       " ('Italian done right! I am new to the area and was concerned about finding a \"go to\" restaurant since Italian is a family favorite. I booked reservations for NYE and was pleasantly surprised. The atmosphere I\\'m sure was a little louder due to the holiday and DJ. But once we got beyond that the food was nothing short of amazing. From the pepper crusted filet to the short rib risotto, each entree was a home run. The appetizers were on point. I love the bruschetta trio (one grapes saturated with honey, sounded odd but was one of favorite), I do think they should offer the traditional bruschetta as full appetizer, I think it would benefit them since its really good. The wait staff seemed a little distracted and not as attentive as one would think, theres grace since it was a holiday. Manager was very kind, stop by to check in as we were heading out and thank us for coming. This place is solid. I am looking forward to returning.',\n",
       "  'pos'),\n",
       " (\"Closed for construction and didn't notify Yelp or google - bad business - just walked 15 minutes to get here\",\n",
       "  'neg'),\n",
       " (\"We stayed in New Orleans for a week, and this was one of the places I wanted to try since we were in the neighborhood getting tattoos. Great lunch stop with a large menu. The prices weren't bad either. This was my 1st time trying a alligator dog, and it was DELICIOUS! The cheesy tots were yummy too, and the drinks were bomb.com! I loved the strawberry lemonade vodka on a hot day. We'd definitely go here again!\",\n",
       "  'pos'),\n",
       " (\"The base of bogus basin Road is blessed with three good ski shops, and this is definitely one of them. I've been going to Eco lounge for close to 15 years and I've always had really good experiences. That's for service and retail and for leasing when my kids were young. I would recommend anybody.\",\n",
       "  'pos'),\n",
       " (\"Food was awesome and super flavorful!  Shawarma combo platter was outstanding and you get a lot for the money!  Chicken Caesar wrap was good but we will probably try something different next time.  Pita bread was awesome and the hummus was very good!  Inside was clean and bright.  We will definitely be going back soon.  The meats in the combo platter were definitely the highlight of the meal!  We went in and ordered food to go - service was very friendly and helpful.  You get a choice of sauces, we won't get the white sauce next time - it was mediocre.  But the meat was so good it didn't need sauce so it was no big deal.\",\n",
       "  'pos'),\n",
       " ('We were looking for some good mexican food, and this place was perfect.  First off the salsa that came with the chips was excellent, it was even better when we mixed it into the fresh table made guacamole.  The carne seca was very moist and delicious.  Also the chili relleno was very good.  I\\'d pass on the \"Original Charro Style beef tacos\", a hamburger patty in a taco did not match the quality of the other food.',\n",
       "  'pos'),\n",
       " ('The best salon on rte 45. They blow the competition out of the water! Keep up the amazing work!!!',\n",
       "  'pos'),\n",
       " ('Enjoyed a wonderful NYE dinner at Giorgios last night. Warm welcome. Great service. Delicious food. NYE menu had so many great choices. We enjoyed the mussels and clams -sauce was great, plus the grilled Cesear salad and prosciutto and melon. We also loved our entrees....lobster ravioli with lumps of crab meat, huge tender pork chop, and perhaps the best ever rack of lamb. We capped it off with housemade tiaramisu and cheesecake. All portions were generous. Every bite was a treat. Prices were great. BYOB. Will definitely be back. We were very lucky to score a table there last night. Reservation recommended!',\n",
       "  'pos'),\n",
       " ('The best pain free experience by a dentist and dental hygienist. The staff are friendly all the time. I highly recommend this dentist. Michelle T',\n",
       "  'pos'),\n",
       " ('It is neighborhood restaurant, family owned. Sushi are always good quality. And always more fun when having friends cooking on the table.',\n",
       "  'pos'),\n",
       " ('This restaurant was very tasty! I tried it out with a friend enjoyed it. We both got the spicy ramen with pork belly and shrimp. The broth was flavorful and seasoned well. Although I am not from the Tampa area, I will be there next time I am in the area. Thank you Yelp friends for your recommendations. This place was good!!',\n",
       "  'pos'),\n",
       " (\"I've been here a few times and the food is always delicious. I would definitely recommend the menu items over the buffet any day. The hot pot was a huge portion so we didn't have to ask for more, but I wish there were more dipping sauce options.\",\n",
       "  'pos'),\n",
       " (\"Best Chinese takeout in the Carrollwood area!  We have been searching for a good Chinese takeout place since we moved into the area 3 years ago from south Tampa.  We've found it!!\",\n",
       "  'pos'),\n",
       " (\"A delicious twist on New Orleans seafood. All the boiled seafood is seasoned just right. Don't pass up the scrumptious chicken sammich. \\n\\nAlways start off with a dozen charbroiled oysters...garlicky deliciousness. The sauté shrimp  is amazing and very filling. Always get so full that I have yet to be able to try dessert. Well maybe next time!!\",\n",
       "  'pos'),\n",
       " ('Located in the cutest historic village in Chester County. The building is beautiful along with everything about this restaurant. Nice outdoor seating area that overlooking the wooded area. Food, drinks & service are always good.  Wide variety of food options. \\nCheck out this town while you are there.',\n",
       "  'pos'),\n",
       " ('What a massive disappointment!!  First the good.  My wife and I arrived fifteen minutes prior to our reservation.  There were many people milling outside the entrance.  I walked in and gave them my name.  They wished me a happy anniversary (our 50th) which was a nice touch and asked us to wait outside.  Even with all of the people waiting to get in, we were called only seven minutes after our reservation.  Very impressive.  We were seated and Daniela, our server, arrived almost immediately.  She also wished us a happy anniversary and took our drink orders.  The restaurant was so cold they could have hung raw meat in the dining room to have it stay fresh but we each brought a light jacket with us for moments just like this.  So far, so good. Now on to the food.  We hit the salad bar first.  If only it tasted as good as it looked.  Most of the good tasting items were average and some were pretty awful.  My wife said the hearts of palm were inedible and the potatoes au gratin were exceptionally tasteless.  We were not going to let that get us down on our 50th plus we did not go there for salad.  Unfortunately, the meats were not much better.  Some were quite good (the flank steak and the top sirloin) and others were too well done, too salty or just plain tasteless they were inedible.  Had the Gauchos not told us, you couldn\\'t figure out what cut of meat it was.  Being it was our anniversary, we were getting a piece of anniversary cheesecake provide by the restaurant.  My email stated it was their special \"Texas de Brazil Cheesecake\".  It turned out to be a slice of previously frozen plain cheesecake looking nothing like what was pictured on either their website or come join us for dinner emails.  They should be ashamed of that.  All in all, the only reason they get three stars is the excellent service from our server and the great cheese bread.  This was a big letdown.  There are many better Brazilian steakhouse options.  Fortunately, we left and decided to go to the Seminole Hard Rock Casino to continue celebrating and where our luck turned for the better.',\n",
       "  'neg'),\n",
       " (\"Got a chicken bowl. The flavor wasn't bad but there just were several things that really just missed the mark here. The fajita veggies were basically raw and I asked for the mild salsa and I'm pretty sure I was given something a lot spicer (wasn't even diced tomatoes, it was just a red sauce). The chips had absolutely no seasoning (barely any salt or anything) and the guacamole we paid for was legit just a large cut piece of avocado with like a piece of onion and a little smidge of lime juice. Pretty sad, although somehow the chicken bowl was still tastier than Chipotle. . .\",\n",
       "  'neg'),\n",
       " ('Great breakfast menu good food \\nnever had dinner there only breakfast',\n",
       "  'pos'),\n",
       " ('This is a wonderful dinner restaurant. Green Hills Grille has a great, expansive menu full of your everyday classics- but also includes a few menu interesting items. Service is prompt and polite, and overall I very much enjoy my experience every time I eat here. I would highly recommend.',\n",
       "  'pos'),\n",
       " (\"The owners are so nice and friendly, and the pretzels are always made fresh and they're delicious! The perfect place to get a party tray with dips and everyone is happy!\\n\\nThey now have pretze\\ncheesesteaks, cheeseburgers and something else that sounded really good'!\",\n",
       "  'pos'),\n",
       " ('Was in town and stumbled across this gem! Owner is amazing, pizza was tasty, and portions were great!\\n\\nGoing to be back!',\n",
       "  'pos'),\n",
       " ('Everyone here is so caring. They treat our dogs with so much love and are always willing to answer any questions we have.',\n",
       "  'pos'),\n",
       " (\"This place is great. Always so helpful. Always have my dogs food in stock. You might expect a boutique niche retail store to jack up their pricing, but I've always found them to be in line (or even less) with other big box pet stores. Buy local!\",\n",
       "  'pos'),\n",
       " ('Great food, fun atmosphere and excellent service. Who could ask for more?  The hush puppies were fabulous... best I have ever eaten.',\n",
       "  'pos'),\n",
       " (\"This cemetery is not kept well. The upkeep and follow up is very poor. We waited over a year to have them fix my aunt's grave. They left it rocky and never planted grass seed. After several requests they ultimately fixed it. In September my uncle was buried. The grave area is a total mess. Nothing was done to level the dirt. It is obviously never attended to. When arriving to the cemetery the fence is a complete disgrace. I believe the fence needs replacement. It is rusty and in poor condition. The least they could do is paint the fence.\",\n",
       "  'pos'),\n",
       " (\"Nice breakfast spot. Plenty of sitting inside and outside. Booths and tables. Our server Meghan was wonderful. Very attentive and helpful. Good food and service. I had to take 1 star off cause we waited for a long time to get our dishes. Not only us. Tables next to us too. It's not server's fault . Maybe more ppl needed in the kitchen for busy breakfast . Definitely will be back\",\n",
       "  'pos'),\n",
       " ('! Went with friends for the game and blown away by the delicious mules - best we ever had! Had a great server Karl - appreciated his patience with us!',\n",
       "  'pos'),\n",
       " ('In fairness to Extra space, they have 2 buildings on the 54th Ave. Kenneth City facility, the good reviews must be conform customers using the front building. The building in the back is a 2 star at best.\\nThe last straw was a significant increase in the cost. My unit was in such a dimly lit area of the building I almost needed a flashlight. Several months after requesting light repair they had an electrician change the fluorescent tubes. Bathrooms out of order frequently and nasty which is not a big deal, only to the guy living in a unit. Good luck getting the Odor out of your furniture or whatever you are storing there. Other than these issues all else is fine! Oh, I suggest febreze for the smell.',\n",
       "  'neg'),\n",
       " (\"The biryani I ordered was completely oily and tasteless. I had to throw it out there was that much oil in every bite. And I'm Indian and ordered multiple times from here before because I liked the food. I have been eating here for a while there is a significant dip in food quality. significant. The person I spoke with (male) during the evening -Took no accountability for the food and refused to take accountability for it. Incredibly rude over the phone and tried to blame door dash for the food the restaurant made. Has no basic understanding of door dash at all. this is very unprofessional and not ok. I do NOT recommend this place. try going to turmeric instead. better customer service and more accountability.  im apalled by the way im being treated as a customer. The guy I spoke with ought to be fired for his unprofessional behavior this is not the way to speak to customers. so rude, no restaurant in the area would talk/treat customers this way. If they call and politely tell you that the food wasn't good ....a  restaurant with accountability can apologize, either refund the money and/or give another menu item. If FAST FOOD places can do this, and other restaurants can do this, they can too. I've never been more aggravated before. I can't believe the sheer rudeness of the person I spoke with. Go to turmeric until this place gets proper management and frankly the quality of food up to par again. something changed.\",\n",
       "  'neg'),\n",
       " (\"The server was fantastic in the lounge. She was attentive and anticipated our needs. The sushi, however needed a lot of work. It was mediocre. Definitely not recommended for real sushi eaters. I got the Clayton, Alaska, and California. All were just OK. I wish they had more authentic sushi. \\n\\nOverall I'm a fan of the service but would not eat in the lounge again.\",\n",
       "  'pos'),\n",
       " (\"Had the roast beef po-boy.  My oh my was it good.  Nothing fancy here, just great food.  Staff is terrific and friendly.  Will definitely make this a stop each time I'm in New Orleans.\",\n",
       "  'pos'),\n",
       " ('Avoid this place. We were there today on a cold winter morning and there was no heat. The eggs were over cooked and the breakfast potatoes were tasteless. The bathroom was filthy.',\n",
       "  'neg'),\n",
       " ('Peppermint Mocha and Chocolate Strawberry Pastry with the wife! What a perfect treat and day! Thank\\nYou Presta',\n",
       "  'pos'),\n",
       " (\"Pick out this place by Yelp. Food was just so-so. I ordered a family Mongolian dinner with Cashew Chicken and Curry Chicken came. The curry chicken was horrible. Hot and sour soup was not either hot or sour, but tasted good. Won't get take out from here again.\",\n",
       "  'neg'),\n",
       " ('Let me start by saying that I love Duck Donuts.  The reason for poor rating was the staff.  Not that they were not friendly but every girl working there appeared that they rolled out of bed and straight to work.  5 girls were working the morning of 1/8 and they all looked like they combed hair with a blender.  Their hair was so messy and hanging in their faces.  One girl making a milkshake kept pushing hair out of her face so she could see.  I am sure people had hair on donuts.   Come on management!   This is disgusting.',\n",
       "  'neg'),\n",
       " ('Uhm not so sure about this place. I\\'ve been only one times before. Long before Covid. I know that has changed A LOT of things in the restaurant/business world. Hubby brought me here on a Monday as the sign said open. As noted it\\'s a bit of a strange location, but the interior really is beautiful.  I think we got there about 3:30 and walked in to the place all to ourselves.  Nobody was behind the bar, we kind of saw half of someone lingering in the back. About 6-7 minutes of just sitting there (also got uninterrupted pictures of the place so that was cool) a lady walked out and asked if she could help us.  It was the most unwelcome greeting I\\'ve had in a long time. I asked if they had butterscotch schnapps as that is what I was craving, they do not so I just ordered a white Russian as a martini.  My husband ordered a Shirley temple as he is not a big drinker. She like half laughed/scoffed at him in the rudest way when he ordered that. I was pretty angry when she did that and felt like leaving right then and there. Not to mention sounded like she had been coughing in the back room before coming out. \\n\\nHowever she then ended up asking me if I would like vanilla vodka in my drink and I said yes. I thought that was nice she asked.  She made our drinks and we ordered a pepperoni flat bread.  Seems she may have been the only worker as she went in the back and stayed there, all the while coughing more which really stressed me out. Wondering if she was tainting our food honestly, hate to think like that but the vibe we got was not good. \\n\\nWhile drinking my drink it was okay I kind of didn\\'t like it but it was drinkable, I noted to my husband that it tasted a little too much like a coffee espresso drink and that I had never had a White Russian that tasted like that - maybe the vanilla vodka had thrown it off.  Of note, I do not drink coffee I don\\'t like it.  The pizza then came out looking delicious, And it was. It was very very good with lots of pepperoni that had a great kick to it.  Once we finished that we were ready to go. Nobody else had come in yet and it was just very awkward.  She warmed up s bit knowing we were leaving and asked how my drink was, I said it was good - she pulled out a bottle and said \"I used this instead of kahlua\" - it was espresso liquor.  It was strange to me that she asked if vanilla vodka was ok but didn\\'t ask if his espresso liquor was ok. I would have said no to that. Cry face. \\n\\nAnyhow I think she was happy to see us go and we were happy to go.  The reason for 3 stars is the flatbread and the atmosphere/decor. Seems like it could be an amazing place, we may try it on a weekend night instead of when nobody else is there but I also was pretty turned off by the whole experience, however again i do know things are weird. I\\'m not sure if that was the owner we encountered. I came upon a review about a year ago that touched on same thing as me, a very unwelcoming feeling. Very strange as that initial interaction set the tone, would have been nice if she had come out introduced Herself and acted like she cared. :(',\n",
       "  'neg'),\n",
       " ('Ordered Curbside delivery. They forgot the 4 sauces I requested. Did not give extra fries that I ordered and the burger buns were hard. For the amount I paid, I am very disappointed.',\n",
       "  'neg'),\n",
       " (\"I usually like to eat in places that are not mainstream, in the hopes that I can find some jewels. Today I was in for American Food so I tried a Cali burger at Martha's.\\n\\nIt was delicious!! At Martha's, you are looking at a healthy hamburger family oriented place, with excellent service and even better prices!\\n\\nI wish it was closer to my house... \\n\\nJessie\",\n",
       "  'pos'),\n",
       " ('Fantastic service, I would recommend this place hands down. They are able to do whatever your heart desires. They are super friendly and they try to make sure you are happy with what you got.',\n",
       "  'pos'),\n",
       " ('I purchased a 2015 porsche Macan back in October and three days later the vehicle started leaking oil, I took it back to the dealer and the turbos were damaged, they tried to summit it to the power train warranty they sold me making a claim for $ 7,000 and the claim got denied because In the carfax report there was a pre existing issue with engine that wouldn\\'t allow the warranty to cover it, this info wasn\\'t disclosed to me and they still sold me the warranty with vehicle and some other insurances. The sales lady tried to trade me out of the car offering me a worst condition vehicle with a higher odometer and cosmetically damaged,  the manager told that if wanted the turbos to be fixed I would have to pay half of the total price of the fixing which it was 4,500 and not 7,000 like they originally submitted to the power train warranty  they sold me  I ask the sales if I could have my money back and she said no that my options were vehicle trade or fixing my vehicle so I agreed on paying half of the fixing by a hand shake deal with the manager. after that  I called for weekly updates on the vehicle and everything was up in the air they didn\\'t know  they didn\\'t know they didn\\'t know always giving me a different excuse that goes from \"we don\\'t know were the parts are and \"the guy that was fixing ur vehicle died to \"we finally found the table that we going to put the parts to fix your car it\\'s been three months of pure lies and  Yesturday ima went to check in the car and I found my car with a popped tire and a dented rim, I had to ask for answers and still no one knew anything they said the vehicle was done but they were now waiting on a new tire and they guy that was going to fix the rim. They  promise the vehicle will be ready today then today they called me to say that one of the AC lines was damaged through the process and they had to ordered it to the manufacturer and it was going to take longer funny thing  because the parts manager a month ago make an example of how the timeline could be affected by many reasons and he used that as an example of it and suddenly today that\\'s the new excuse, the truth is that my car has been sitting down under a tree for the past three months and no one has done anything to it. So if u ever think about buying one of their used luxury vehicles it ain\\'t worth it because it\\'s a scam if u ask me how would I rate this dealer\\n0 communication and costumer feed back\\n0 work ethics\\n0 reliability\\n0 costumer service\\n\\nAmigo que me lee si alguna vez piensas comprar un vehículo usado de este concesionario por favor no lo hagas te roban tu dinero los autos son inservibles y a los latinos nos miran por encima del hombro por nosotros ser diferentes a ellos.',\n",
       "  'neg'),\n",
       " ('Loved it!  We ordered food to go, Hawaiian Pizza, Pepperoni rolls and chicken  tenders.  All were great, we loved the sauces that came with the chicken!  The chicken is \"actual\" nice size pieces of chicken and not some other scary want to be chicken!!  Our order was ready when we got there and the staff was friendly.  \\n\\nI read through other reviews and its a shame that people are giving poor reviews, someone said that they would rather have Jetts pizza???  Clearly this person does not have a taste for great pizza.  \\n\\nWe are locals and will definitely be going back again.  Give it a try!',\n",
       "  'pos'),\n",
       " (\"I left a complaint on the customer service support line, but it has been almost three months with no response, so I thought I'd share my thoughts here. \\n\\nI had an oil change done on my Tacoma. The oil change lasted roughly 32minutes. In addition, the young man who did the oil change seemed to have left the skid plate loose to the point where I heard it rattling while driving on the highway. When I got home, I found the skid plate uneven. It appears that instead of threading on the screws by hand and then tightening them onto the skid plate instead he just jammed the screws in, damaging the thread. This seems like a minor issue, but now I'm thinking about what else could have been done wrong.\\n\\nI'd rather take 30minutes and have the job done right and at a lower price than 30minutes and have to deal with this inconvenience.\\n\\nBOTTOM LINE: \\nAvoid if you drive a Tacoma. \\n\\n I now see myself doing my oil changes to prevent things like this from happening in the future.\",\n",
       "  'pos'),\n",
       " ('In my personal view, this is an outstanding moderate level Hilton property. The hotel has a modern decor and clean rooms. Welcoming staff. The morning breakfast had all the essentially for a great hotel breakfast before work with an attentive and hard working attendant. Thanks for providing a warm and safe place to sleep during the recent snow storm. Recommend this property.',\n",
       "  'pos'),\n",
       " ('Great place for seafood!  We got the boil bucket for 2.  Free hush puppies with meal.  The crab was a tad overcooked, but they replaced it.  Waitress was attentive and food was tasty!',\n",
       "  'pos'),\n",
       " ('I swung through the Drive Thru super late one night because I had just gotten into town and they did a good job. There were 2 cars in front of me and it moved quickly. The person taking the order was pleasant and patient. My food came out right and hot. It was everything you could hope for going through a Taco Bell Drive-Thru at midnight on a week day.\\nWould be open to returning.',\n",
       "  'pos'),\n",
       " (\"I am Italian, I make pretty good Italian food. And Maggiano's is generally a good, consistent Italian restaurant, but this location just isn't ranking high on my list of consistent locations for the chain (the one closer to us would get a 4 for consistency and quality whereas this one just didn't hit the mark).\\n\\nThe staff was nice and we felt safe for the most part (as much as one can during these crazy times).\",\n",
       "  'neg'),\n",
       " ('Marcus was so helpful I think he set a record for changing a flat', 'pos'),\n",
       " ('Every time I have visited the staff has been friendly, patient, caring and efficient. The facility is always clean and making an appointment is quick and easy.',\n",
       "  'pos'),\n",
       " (\"Wow! Excellent food great ambiance and excellent prices! Love coming here every chance I get. I came for the potato pancakes and kielbasa. The potato pancakes are awesome great taste and not greasy. The kielbasa was cooked perfectly and the saurkraut didn't disappoint.\",\n",
       "  'pos'),\n",
       " (\"Visiting Peddlers Village for the 1st time. We were courteously greeted by a man at the register. When we asked for seating the gentlemen informed us that there's a room next to their wine tasting area opened. It was very SPACIOUS and wasn't too crowded so we got to rest our feet and enjoy our mulled wines there.\\n\\nI LOVE MULLED WINE AND couldn't decide between their selection.....Spiced Apple or Holiday Spirit. The host at the wine tasting bar offered samples to assist with my decision. HOLIDAY SPIRIT was tasty and kept us very warm. It was FLAVORFUL and PERFECTLY spiced.  We had a wonderful experience from our greeting to grabbing our mulled wines to go! :) \\n\\nI would recommend making a stop here. Overall service and wine was very GOOOOD!!\",\n",
       "  'pos'),\n",
       " (\"Amazing gem in the rough! They have a variety of supplies for any crafter. Prices are donation only, so take what you need and give what you can. This is a definite visit place if I'm ever back in town!\",\n",
       "  'pos'),\n",
       " (\"Had the roast beef po-boy.  My oh my was it good.  Nothing fancy here, just great food.  Staff is terrific and friendly.  Will definitely make this a stop each time I'm in New Orleans.\",\n",
       "  'pos'),\n",
       " ('Everyone here is so caring. They treat our dogs with so much love and are always willing to answer any questions we have.',\n",
       "  'pos'),\n",
       " ('Italian done right! I am new to the area and was concerned about finding a \"go to\" restaurant since Italian is a family favorite. I booked reservations for NYE and was pleasantly surprised. The atmosphere I\\'m sure was a little louder due to the holiday and DJ. But once we got beyond that the food was nothing short of amazing. From the pepper crusted filet to the short rib risotto, each entree was a home run. The appetizers were on point. I love the bruschetta trio (one grapes saturated with honey, sounded odd but was one of favorite), I do think they should offer the traditional bruschetta as full appetizer, I think it would benefit them since its really good. The wait staff seemed a little distracted and not as attentive as one would think, theres grace since it was a holiday. Manager was very kind, stop by to check in as we were heading out and thank us for coming. This place is solid. I am looking forward to returning.',\n",
       "  'pos'),\n",
       " ('After a very traumatic experience with a previous dentist I finally built the courage to find a dentist to fix the damage. \\nAll of my research led me to Dr. Chiara and I cannot be thankful enough for him and his staff. \\nAfter a year and 2 months of not being able to chew on my right side Dr. Chiara fixed it right away. I felt comfortable and safe under the care of him and his staff.',\n",
       "  'pos'),\n",
       " (\"Don't judge a book by it's cover! This place is awesome. I order from capital beer at least 3x a month and Have never been disappointed. The food is excellent, quick service, always hot and fresh, great portions, inexpensive. If you're in the area, don't any other Chinese!!! Love you capital beer!!!\",\n",
       "  'pos'),\n",
       " ('Best seafood on Clearwater Beach, right up there with Frenchy\\'s. Eat the drunken shrimp, but please don\\'t blame me once your addiction starts; I stopped attending SA meetings years ago. All of their daily catch Fish specials are stellar, with grouper & snapper at the top. Love the \"old school\" vibe here. No pretentiousness, just some of the best seafood in Tampa Bay. Check it out, and you\\'ll be hooked! Couldn\\'t resist the pun.',\n",
       "  'pos'),\n",
       " ('Sad to say been in my home almost 6 years the house appeared to be nice until about a year or two living in the home called for repairs and got things patched up and not properly fixed have ahad a major mice entering the home for awhile now was told it was my problem water problems gas problems and all the help and answers i got was why do me and children still live in the home unhealthy living conditions that should be reported even have a lot of mold in the home. Worst and most horrible renters in my life',\n",
       "  'neg'),\n",
       " ('Food is good service at the bar. Is the worst in any place I have been. Rude always crazy rude. What do you want two seconds to take order. Never come back to ask and now left shift and no one take take our payment dishes have been sitting in front  us for 15 minutes. And still no one to pay.',\n",
       "  'neg'),\n",
       " (\"Came here for a friend's birthday and was immediately\\nimpressed with how clean and modern the interior was.\\nDefinitely a bit more upscale than your typical hole in\\nthe wall Chinese restaurant. Altogether, 3 of us ordered\\n5 dishes (including 2 appetizers) : Dan Dan noodles,\\nscallion pancakes, fatty beef sour radish soup, salt and\\npepper dried squid, and spicy lamb chops.\\nSquid was an easy favorite, but I'm always a sucker for\\nthat chewy goodness. I have to give a special shout out\\nto the radish soup. I would order this dish again just for\\nthe noodles. They had this almost firm-Jello-like\\nconsistency that gave the most perfect bite! And the\\nbroth itself was delicious and had a nice spicy kick to it.\\nWouldn't order the lamb chops again - meat was dry\\nand it didn't go too well with the cumin marinade.\\nA bit on the pricier end, but I think it's appropriate for\\nthe vibe and quality of food.\",\n",
       "  'pos'),\n",
       " (\"The air pump has been out of order for months .. figured I could save some people a drive. Don't go to this location for air ! The gas pumps and sandwiches are fine.   I wonder how many people have wasted time driving to this location for air ...  whoever owns this one needs to fix the air pump .\\n\\n\\nNO AIR don't waste your time if you need air go to\\nAnother location\",\n",
       "  'neg'),\n",
       " (\"My wife and I were looking for something to do before a wedding, and we figured we would give the aquarium a shot. We've heard good things in the past about the aquarium in Tampa, and we hadn't been to one in a long time!\\nThere were tons of things to see and lots to learn! There were lots of good FL native creatures, lots of red fish/snook/tarpon, which are always fun to see. The Alligators were cool & we learned a lot about jelly fish, Otters, and sting rays!\\nI loved taking pictures and we were mesmerized by all of the cool animals! We even got to meet/touch Patrick Star!!!\\nThe only downfall is the price. Unless you are getting the year membership and are going to go several times throughout the year, it's expensive. It was almost $80 total just for the two of us to spend not even 2 hours here. I asked if there was a FL Resident discount, and there is not.\",\n",
       "  'pos'),\n",
       " ('Lobster Roll is pricey, $28.95, but worth every cent. My third one over the last few mo',\n",
       "  'pos'),\n",
       " ('We were house hunting for our move to TN and we saw the reviews so decided to give the \"The Goat\" a try. Our food was okay..  Were foodies.. pub food can be wonderful!  Sadly we were disappointed - burger was overcooked and fries were cold, we were hoping for more. The atmosphere was enticing but the food and service need some work.',\n",
       "  'neg'),\n",
       " (\"I am out of town and thought this hotel would be good but I was wrong. I could barely hear the hotel staff when I called to book a room. I asked if they had a hot tub and swimming pool and they said yes but there was no hot tub. I thought okay miscommunication. We got to the room and no bath towels. I called three times and finally the front desk said come down and get some towels, so I did! Then I ordered a wake up call and the cord kept coming out of the back of the phone because it was broken. They sent up maintenance who told me not to move the phone so the wire doesn't fall out, duh! Then the next day I called to ask if there was a breakfast they said yes but they didn't know what they had. Then I was getting breakfast when a man came up to me and gave me the third degree about where's my voucher? What voucher I asked? He said I needed to buy a voucher but he never said where, for breakfast which was never communicated by anyone until I was getting breakfast and he had to make a scene in public and I left the food. Over all a terrible experience. If you want a nice experience I highly recommend another hotel.\",\n",
       "  'neg'),\n",
       " ('Cozy spot for am evening drink after ice skating. The drinks were scrumptious ordered the spiked hot cider and spiked butterscotch hot chocolate. The hot chocolate was decadent and rich whole the cider was warm and apple flavor. Nice spot with great servers',\n",
       "  'pos'),\n",
       " (\"Walked out after waiting today in a line for 15 minutes that simply wasn't moving,  as staff was making food for pickup and delivery orders instead.\",\n",
       "  'neg'),\n",
       " (\"The staff was friendly and helpful, the boat ride itself was fun. But the food was hot trash and the drinks were a total disappointment.\\n\\nSo the food portions were ok, but the chicken was way over-salted-to the point that we couldn't eat it. The meat in the gumbo clearly came from a can and the deserts came in portions smaller than you would give to a child.\\n\\nWe paid extra for extra drink tickets and we didn't find out until the boat got underway that we could only get beer, Bloody Marys and shitty Woodbridge wine. We had to pay for all the good booze separately.\\n\\nThere are better ways to see the river on a boat. This place was a huge waste of money and an even bigger disappointment. Whatever bean counter decided to skimp on the food and booze is running this company into the ground.\\n\\nIf the Chef would actually taste test the food before it gets to the customers and if the drink tickets weren't a ripoff then this experience would easily deserve 5 stars.\",\n",
       "  'neg'),\n",
       " ('This place is the best kept secret!  The food is so good.  The staff works with you so you get excatly what you need.  Big orders or little orders you are treated the same with great service and even better food!  The kabobs are my favorite beef or chicken they are always delicious.  The smoothies are big and fruity!  The pita chips with hummas was so good we ran out fast when I took it to the office.  Fries are seasoned and everything comes out hot and ready.  But the saffron rice is absolutely my favorite! Any questions ask they are so helpful!  We will be back as an office and I will be back as an individual...  Great food!',\n",
       "  'pos'),\n",
       " ('Thomas Edison does the job very well. They are very responsive and keep me posted regarding the entire progress. Will definitely work with them in the future when I need things they can do. The electrician arrived on time and finished the job in time. They even charge me less than the estimate when they realize they can do less to fix the issue.',\n",
       "  'pos'),\n",
       " (\"Just had some of the best soups - fresh, hot, homemade and delicious!!  Great selection and very friendly service. Didn't try the sandwiches but willing to bet they are very good as well!  Highly recommend this cute place - the tomato bisque and Italian-sausage-kale soups were amazing!!\",\n",
       "  'pos'),\n",
       " (\"Iron Hill used to be fantastic but they've been hit or miss lately (however that's not unheard of due to the pandemic) For the most part these days Iron hill food is fine- not great, not terrible, but fine. Our latest to-go order the food was mostly ok but the chicken pot pie was so bland I had to add in seasoning at home. (Salt it seemed was even missing- I know it wasn't me cause I was able to taste everything else and I'm not sick!). Hopefully once we as a society stop getting hammered by the plague they'll be able to be a bit more consistent\",\n",
       "  'neg'),\n",
       " (\"A quiant spot located in Ardmore, PA, this place is more like a roundabout circle than a square. There are ton of shops mostly focused on clothing but you can find a diverse range of clothes from high-end brands to more affordable spots. There is a SoulCycle for spinners and tons of restaurants. You have a couple of free spaces with oversized lawn chairs that would be great for lounging. Parking inside the Square is luck-based with parallel spots highly coveted. There is parking across the road near the new Nike store but chances of someone in their car plowing you down are high even with the crosswalk lights on. It's a pretty standard open-air walking mall with more interesting brands so be sure to check it out if you are in the area.\",\n",
       "  'pos'),\n",
       " (\"misgendering someone on purpose is just disrespectful. katie i don't even know you but i'm ashamed. do better.\",\n",
       "  'neg'),\n",
       " ('Even though they had long lines and minimal staff and their menu only had three things on it. The food was amazing. The staff was soooo nice and awesome.\\nTheir gumbo was sooooo good. We also had the bacon eggs and cheese grits , also very good, we had the chantili cake and we had to come back the next day and get a whole cake. We basically came to bywater bakery 3 out of the 5 days that we stayed in New Orleans! Highly recommend this place!!',\n",
       "  'pos'),\n",
       " (\"I'm going to preface this by saying as a vegetarian - I would not recommend this place for dinner. However, it is great for brunch especially on the weekend when there is live music - the atmosphere can't be beat. The omelet, French toast, and beignets are great! You definitely feel like you're in NOLA when you are there.\",\n",
       "  'pos'),\n",
       " ('The bouncer working last maced punched a homeless man while he was already on the ground. Fire him asap',\n",
       "  'neg'),\n",
       " (\"Service and food are meh. I came here once in the fall last year to watch football with my gf and we were two of maybe 5 people at the bar. There was one bartender and I couldn't tell if she was in a bad mood, acted normally like that, or would just rather spend her shift talking to her friends on the other side of the bar. We got our food after a bit and had to ask for new avocado since the ones in our plate were literally black. Food was ok the first trip. \\nTried it again this week and wanted to give it another shot since they have a wide beer selection. Sat at the bar with my buddy and the bartender was nicer, but same wait time...not many people at the bar and takes a while to get service or your check, even after making eye contact. Food was worse this time and my buddy said his Alfredo looked like a 4th grader made it from a box. I wanted to like it, but there are better places to go for sports and beer without having to feel like an inconvenience or get iffy food. \\nWater and silverware don't come standard apparently, at least at the bar.\",\n",
       "  'neg'),\n",
       " (\"Sushi pier has been on our list for a while, so we were so excited to order takeout! Service was super quick and while I only got a quick glimpse inside when I picked up our order, the space is so inviting and the decorations are delightful! \\n\\nWe did the takeout combo of 3 rolls, 2 nigiri, and the moondog stars. It's such a great deal for the amount of food you get!! We also wanted to try the tempura stuffed calamari so we ordered those as well!\\n\\nEverything was fresh and delicious, I especially loved the Mr Pink roll!! I'd probably skip the King Kong roll and the tempura stuffed calamari next time if we're ordering takeout just because I think they didn't travel super well, but we definitely can't wait to come try more in person here.\",\n",
       "  'pos'),\n",
       " (\"The location is nice and pretty big. Staff is relatively nice. A lot of equipment so you really don't have to wait to use anything specifically, my biggest gripe is the cleanliness of this location is by far the worst for a Crunch location.\",\n",
       "  'pos'),\n",
       " (\"Came in today for lunch and I'll let some things pass. For starters there was no ice for the drinks and the cashier gave no warning of it. So I have almost room temp drink and I ordered the famous bowl which came out looking like soup and not hot at all. I had more gravy then anything.\",\n",
       "  'neg'),\n",
       " (\"I moved to Land O Lakes about a year ago and always wanted to try In The Loop Brewing. Safe to say it's the best bar I've been to in the area to date. I love that there is outside seating and plenty of places to hang out with people. The beer section was small but had beers I liked. The Tropical Hazy IPA was delicious and I loved it. Would have liked more IPAs to choose from but was happy with all I ordered. I even tried the sour which was good too. I will definitely be back and may even turn into my local hang out with friends.\",\n",
       "  'pos'),\n",
       " (\"We visited Sparks Water Bar to celebrate my sisters birthday and had a delicious meal upstairs with a great view of the sunset and the sparks marina.\\n\\nIf you haven't been to Garwood's or Riva Grill, you definitely need to check out Sparks water bar. They all have beautiful views and similar decor, menu, and great service. The location is what makes this place extra special and worth the higher price tag, it's a beautiful experience to go along with good food and drinks. \\n\\nWe started out with the classic Woody's, their signature cocktail that is fruity and blended with lots of rum. These go down easy!\\n\\nWe skipped appetizers and went straight to our meal, again, the price tag is a bit hefty so we were being mindful of the overall bill.\\n\\nSee photos for exactly what we ordered, everyone was pleased with their meal. I had the scallops which were cooked perfectly, well seasoned, and beautifully presented. The risotto was very creamy, almost a bit too much for my taste. I like a good al dente risotto. Hubby said that his prime rib was not as good as he expected. It is a very thick cut and was not very tender, although well seasoned and well sauced. The salmon was cooked medium, which is great for a salmon lover but my sister was thrown off that it wasn't fully cooked, but was also not asked how she'd like it done. She said it was delicious anyway. The pasta dish was a cross between carbonara and mac & cheese - very rich and creamy!\\n\\nThe brownie dessert was a freebie for the birthday girl, but we all shared it because it's a very large portion. The brownie is gooey and warm on the inside when it is served, absolutely delicious, and again it is beautifully presented!\",\n",
       "  'pos'),\n",
       " ('Food: 4.5/5 I got the shashuka, ricotta and honey toast, scramble egg, and protein bowl. Everything was tasty and good portion. The price was a little high, though. \\n\\nServices: 5/5 my waitress was very attentive \\n\\nAmbience: 5/5 Super chic place with a lot of seatings and natural light. I',\n",
       "  'pos'),\n",
       " ('We have been using this branch of US Bank at the SaveMart on Pyramid Hwy for over 15 years. EVERYBODY is awesome. Always so friendly and competent. We could not ask for a better group of people to work with for our banking needs. They have been especially helpful on a bunch of Medallion Signatures that we have needed. I highly recommend. Diana and her crew are top notch.',\n",
       "  'pos'),\n",
       " (\"Houses are generally people's greatest purchase. It's take decades to pay off, and physical protects you. It's a basic need of safety for yourself and your family.\\n\\nRoofers have a challenging job, but integrity and reliability are absolutely important. If you can trust someone to do a good job on your roof of your house, then that creates other issues soon after.\",\n",
       "  'pos'),\n",
       " (\"This is a great museum off Jackson Square (actually overlooking it - it's a great place to cool off inside and people watch from above). It takes you through the history of NOLA and the surrounding area, with special exhibits to artists in the area. When I last went, they had a display of a local furniture maker and one for a photographer who captured a lot of otherwise undocumented history. The gift shop inside is lacking, but the history and displays more than make up for it.\",\n",
       "  'pos'),\n",
       " ('Megan was our waitress and she made the experience very awkward. She was so nice to the table behind us but was weird to us.\\n\\nFood was great and drinks were great too.',\n",
       "  'neg'),\n",
       " (\"Never had it before this trip and will never be coming back. Manager doesn't know how to work their computer system to fix pricing so we ended up paying $5 extra when the promotion said free. The staff is not knowledgeable on the items and EVERYTHING was extremely greasy. I will say that the drink we had was amazing (I forgot what it was called but it was a slushy) and that is where my one star will be going. Train management please (:\",\n",
       "  'neg'),\n",
       " (\"Patriots stay away. \\n\\nDr. Jermey is a weak man that abuses his power to fire stellar employees that are medically exempt from the forced vaccine for COVID-19. He was so weak that he couldn't outright ask his employees their status- upon basically harassing and finding out he immediately terminated an elderly naturopathic doctor and the massage therapist that had him implement any sort of protocol to the office in the first place as he was never complaint from the beginning. All of the sudden he went full in talked down and degraded these women due to his very one sided stuck thinking. Do your research, sorry but you're wrong...\\n\\nStay away from this place. The owner is unsure of himself and doesn't know how to run a business. The employee turnover rate is rapid and they will spam you with poorly created emails and Groupon deals begging for your business. . \\n\\nI'll be recommending the DOH and other authorities to check in on these two offices there are some shady practices and they are not accurately following any of the ridiculous and ever changing CDC protocol.\",\n",
       "  'pos'),\n",
       " ('Server was not very friendly. Ordered extra protein (chicken) with my entree. Friend did not in his. We had the same amount of protien. Server seemed inconvenienced when we ordered desert. Food was good.',\n",
       "  'neg'),\n",
       " ('Still one of my favorite restaurants (even as a vegetarian).  I\\'m gonna coin this place as the best modern southern cooking joint in Indianapolis!\\nMy girlfriends and I had a weekend brunch reservation, highly recommended due to R&B\\'s popularity.  We arrived, were seated quickly and had one amazing waitress provide attentive and friendly service.   Our drink orders were taken, then we were given ample time to study the menu.  We ordered and received our dishes timely.  As per past visits, our choices were absolutely delightful as always.  We shared the deviled eggs, angel biscuits and grits.  My friend remarked, \"these biscuits are amazing!\". Everything was delightful.   Once our main dishes arrived, we were in heaven...they were well-prepared and delicious!   \\nR&b has a well-deserved cult following, and we are admitted fans.',\n",
       "  'pos'),\n",
       " (\"I wish I could give -0 review. I have had issues in the past with my ordered from this location but I wanted to give it another shot. On Sunday 1/16 I ordered cheese burger and I paid for an additional extra patty. I received the burger without burger! I just got buns lettuce, bacon and some fixing not even 1 patty out of the 3 I ordered. I was very disappointed and I called the store to be told that since it's Ubereats they can't do anything about it. It was 9.50 pm and most the  restaurants around me are closing so I couldn't even order something else. Never using that store again.\",\n",
       "  'neg'),\n",
       " ('Mangosteen  was a new restaurant for us and we have now been back twice.  We enjoyed it the first time but we were intrigued with the bartenders and the cocktails being prepared.  So the second time we sat at the bar and let Luke make us different concoctions of liquor. They were great.  He is really good and make a unique and delicious drinks.  We saw some people having a Smokey Old Fashion and I had two tequilas, one tasting of pomegranate and the other of cucumber. Both were great. For food, we had the Korean bbq tacos and they went well with the tequila.  Definitely worth a visit.',\n",
       "  'pos'),\n",
       " ('What a massive disappointment!!  First the good.  My wife and I arrived fifteen minutes prior to our reservation.  There were many people milling outside the entrance.  I walked in and gave them my name.  They wished me a happy anniversary (our 50th) which was a nice touch and asked us to wait outside.  Even with all of the people waiting to get in, we were called only seven minutes after our reservation.  Very impressive.  We were seated and Daniela, our server, arrived almost immediately.  She also wished us a happy anniversary and took our drink orders.  The restaurant was so cold they could have hung raw meat in the dining room to have it stay fresh but we each brought a light jacket with us for moments just like this.  So far, so good. Now on to the food.  We hit the salad bar first.  If only it tasted as good as it looked.  Most of the good tasting items were average and some were pretty awful.  My wife said the hearts of palm were inedible and the potatoes au gratin were exceptionally tasteless.  We were not going to let that get us down on our 50th plus we did not go there for salad.  Unfortunately, the meats were not much better.  Some were quite good (the flank steak and the top sirloin) and others were too well done, too salty or just plain tasteless they were inedible.  Had the Gauchos not told us, you couldn\\'t figure out what cut of meat it was.  Being it was our anniversary, we were getting a piece of anniversary cheesecake provide by the restaurant.  My email stated it was their special \"Texas de Brazil Cheesecake\".  It turned out to be a slice of previously frozen plain cheesecake looking nothing like what was pictured on either their website or come join us for dinner emails.  They should be ashamed of that.  All in all, the only reason they get three stars is the excellent service from our server and the great cheese bread.  This was a big letdown.  There are many better Brazilian steakhouse options.  Fortunately, we left and decided to go to the Seminole Hard Rock Casino to continue celebrating and where our luck turned for the better.',\n",
       "  'neg'),\n",
       " (\"I am Italian, I make pretty good Italian food. And Maggiano's is generally a good, consistent Italian restaurant, but this location just isn't ranking high on my list of consistent locations for the chain (the one closer to us would get a 4 for consistency and quality whereas this one just didn't hit the mark).\\n\\nThe staff was nice and we felt safe for the most part (as much as one can during these crazy times).\",\n",
       "  'neg'),\n",
       " (\"Do not hire these crook. They left big holes in every wall where they installed a vent. They said it wasn't their responsibility to close them. They also said we'd be able to open and close vents but they are positioned next to the ceiling at a height we would need a ladder to reach. SLOPPY UNPROFESSIONAL WORK that cost $50K.\",\n",
       "  'neg'),\n",
       " ('This place would not see my 6yo son because he did not  have a mask. They did not provide masks and wanted me to drive around to different places to purchase a mask just to be seen for a quick physical. DO NOT RECOMMEND.',\n",
       "  'pos'),\n",
       " ('Today was my first time here, and I got two subs the Philly cheesesteak , and the Italian cold cold cut both the large. The service was great, food was great but the price was high $15 each sub. Prices are going up everywhere so people will be eating out less.',\n",
       "  'pos'),\n",
       " (\"Walked out after waiting today in a line for 15 minutes that simply wasn't moving,  as staff was making food for pickup and delivery orders instead.\",\n",
       "  'neg'),\n",
       " ('Went in because we were both dying of hunger. Ordered two wraps and a smoothie, took almost 20 minutes to get them. Asked for napkins, was ignored. Wraps were poorly made, with the hummus veggie wrap containing no hummus and half a slice of tomato. Overall, understaffed and the only half decent thing was the smoothie.',\n",
       "  'pos'),\n",
       " (\"Michelle was our server and she was so attentive to us and our 15 month old son. Food was spectacular. Definitely a must stop place when you're here in Reno\",\n",
       "  'pos'),\n",
       " ('Great arch. Been other places and by far this is the best eyebrow threading!!! Walked in and out quickly.',\n",
       "  'pos'),\n",
       " (\"I love coming here whether it's for food or drinks. The staff is typically friendly; last time I was there the bartender was super engaging. The aesthetic is also pleasing. I'm never waiting long.\",\n",
       "  'pos'),\n",
       " ('Horrible service. Staff is completely unhelpful and rude. Waited over 30 minutes for a table when the wait time was quoted at 15 only to be seated outside in a direct sunlight table that was open the entire time. When asked to speak with manager was told he was busy. When asked for one of the open tables inside was told we would need to go back on the waitlist at the bottom of the list.',\n",
       "  'neg'),\n",
       " ('I received Brazilian laser hair removal treatments from Marijana and am very happy with my experience! Though it is pricier than other places, Marijana is very knowledgeable about the laser hair removal process and goes out of her way to make it as comfortable and painless as possible. So, I believe that it is worth the money. Because of my fantastic experience, I will be going back to have my underarms done as well.',\n",
       "  'pos'),\n",
       " (\"This location is an embarrassment.  My son loves the garbage food they serve, but this location is filthy, has horrible customer service, never makes the pizza the same way twice, let's dogs behind the counter, does bad delivery, has an impossible parking lot .  . . need I say more? This franchisee should be forced to forfeit their franchise.\",\n",
       "  'neg'),\n",
       " (\"I'm only giving it two stars for the convenience that it's in Target. But other than that, just go to the other Starbucks further down Manhattan. The baristas here always have an attitude and never make my drinks right. My orders are usually simple and they still seems to mess it up.\",\n",
       "  'neg'),\n",
       " ('Food: 4.5/5 I got the shashuka, ricotta and honey toast, scramble egg, and protein bowl. Everything was tasty and good portion. The price was a little high, though. \\n\\nServices: 5/5 my waitress was very attentive \\n\\nAmbience: 5/5 Super chic place with a lot of seatings and natural light. I',\n",
       "  'pos'),\n",
       " (\"Stopped by for a solo brunch.  Had the Eggs Ponchartrain and a Bottomless Mimosa.  \\n\\nThe eggs were good, a little watery from the spinach, but Hollandaise sauce fixes everything!  The Mimosas really are bottomless.  I think I had five; I'm surprised I could walk out afterwards.  Good thing my hotel was close and I could go back and nap by the pool to sober up.\",\n",
       "  'pos'),\n",
       " (\"Christine is an amazing hairstylist! She's been cutting and styling my hair for well over a decade now; she even did a beautiful up-do for my wedding. I have followed her to several different salons and was thrilled when she and her partners opened their own--Sage Hair Collective. All of the stylists here are skilled and dedicated to their craft. Christine is great about listening to what you want and working with you to give you a style that will compliment your face, work with your hair texture, and fit your lifestyle. And she does amazing blowouts and up-dos, too! \\n\\nThe salon is absolutely gorgeous, too. It's very chic, but also very welcoming and comfortable--lots of natural light and greenery that makes you feel relaxed during your time there. Definitely recommend!!\",\n",
       "  'pos'),\n",
       " ('Food was mediocre at best and very overpriced. Service was friendly, but slow mostly because the restaurant is understaffed. Cool atmosphere and great location right across the street from the beach.',\n",
       "  'neg'),\n",
       " ('Hidden is key word.    Upper floor of gym building.  Small signs. Hard to find......but FIND IT!   Food was excellent.   Scotch eggs!    Blast sando with house made truffle mayo and fries were a cut above.     Birria sando with great flavor and texture.    Awesome and we will be back!',\n",
       "  'pos'),\n",
       " ('My boyfriend and I went to Ulysses for dinner last night and really enjoyed it. We split the poutine and the meat lovers pizza. Our waitress recommended adding the herbed ricotta which we did and it was delicious. Both items were fantastic. Our waitress was great - friendly and attentive. I also really like the ambiance of the restaurant and could see myself hanging out at the bar area. Highly recommend!',\n",
       "  'pos'),\n",
       " (\"Made reservation for New Year's Eve. When arrived, entire empty table away from front door and cold draft was not offered as seating. We were seated directly in front of door, temperatures outside were below 32-degrees Fahrenheit. Asked to be seated away from door but were denied by host. Food wasn't that great, but we were hungry. Service, except for poor table option, was good. Disappointing.\",\n",
       "  'neg'),\n",
       " (\"I'm curious whether the hours shown on the Yelp app as well as Google are incorrect because after driving 30 minutes to this location we found it closed at 10 rather than 10:30. If hours have changed, that is understandable, but when we pulled up to the window we were completely ignored by the staff who looked at us and looked away. We had to knock on the window in order to ask whether they were still open. Very upsetting to receive such poor customer service, regardless of closing time confusion.\",\n",
       "  'neg'),\n",
       " (\"DO NOT stay at this hotel! Check in is supposed to be 4:00 but you won't get in until hours later. It's absolutely ridiculous!\",\n",
       "  'neg'),\n",
       " ('They serve good food I just suggest that they do presentation a little bit better.  Otherwise, the service and the quality of food is great.',\n",
       "  'pos'),\n",
       " (\"where do iI start? the condition of the ice was horrible. it was hard to skate and didn't feel safe, forget fun. the bathrooms were absolutely disgusting. the fire in the fire pit was practically nonexistent---I overheard a customer ask an employee if she could tend it for them. when i approached an employee about resurfacing ice, she said they were really busy...taking more people's money, that is. but what about the experience of the customers who already paid you (and in our case, was even paying a babysitter to be there)?! so lousy. mental note to self, never come to this rink again.\",\n",
       "  'neg'),\n",
       " ('Hubbz had NY strip and it was wonderful. Thick generous portion. I had the coconut crusted mahi - it was topped with mango chutney, so a bit of a sweeter - but delicious- presentation. We each had a couple Key Lime martinis - they we sooo good. Great service too!',\n",
       "  'pos'),\n",
       " ('We were looking for some good mexican food, and this place was perfect.  First off the salsa that came with the chips was excellent, it was even better when we mixed it into the fresh table made guacamole.  The carne seca was very moist and delicious.  Also the chili relleno was very good.  I\\'d pass on the \"Original Charro Style beef tacos\", a hamburger patty in a taco did not match the quality of the other food.',\n",
       "  'pos'),\n",
       " (\"We had our New Years Eve dinner here last night, and everything was exceptional as always.  James was our server and I think I will always ask to be in his section...great, attentive service without being overbearing.  I had the BBQ meatloaf at James' suggestion and it was PHENOMENAL!  Other mbers of our party had the Mahi Mahi, and raved about the sauce.  Every time I have ever eaten here in the past decade, it has never disappointed!\",\n",
       "  'pos'),\n",
       " ('My family had a really nice experience here. We enjoyed the food immensely. My 3 children liked the conveyor belt a lot. My kids are really picky eaters and there were so many options for them. We will definitely come back soon. The sauces were amazing too, and added so much flavor to the meat and vegetables.',\n",
       "  'pos'),\n",
       " (\"Their draft list and signature cocktails are amazing and that's what I come for. They also have fun games outside with a cute new setup that I'm excited to try out when the warmer weather comes around.\",\n",
       "  'pos'),\n",
       " (\"This place is great. Always so helpful. Always have my dogs food in stock. You might expect a boutique niche retail store to jack up their pricing, but I've always found them to be in line (or even less) with other big box pet stores. Buy local!\",\n",
       "  'pos'),\n",
       " (\"The biryani I ordered was completely oily and tasteless. I had to throw it out there was that much oil in every bite. And I'm Indian and ordered multiple times from here before because I liked the food. I have been eating here for a while there is a significant dip in food quality. significant. The person I spoke with (male) during the evening -Took no accountability for the food and refused to take accountability for it. Incredibly rude over the phone and tried to blame door dash for the food the restaurant made. Has no basic understanding of door dash at all. this is very unprofessional and not ok. I do NOT recommend this place. try going to turmeric instead. better customer service and more accountability.  im apalled by the way im being treated as a customer. The guy I spoke with ought to be fired for his unprofessional behavior this is not the way to speak to customers. so rude, no restaurant in the area would talk/treat customers this way. If they call and politely tell you that the food wasn't good ....a  restaurant with accountability can apologize, either refund the money and/or give another menu item. If FAST FOOD places can do this, and other restaurants can do this, they can too. I've never been more aggravated before. I can't believe the sheer rudeness of the person I spoke with. Go to turmeric until this place gets proper management and frankly the quality of food up to par again. something changed.\",\n",
       "  'neg'),\n",
       " ('GREAT staff and GREAT food!! My boyfriend had a fontina pizza, we split AMAZING sweet potato fries, and I had the famous grilled cheese with tomato soup. The grilled cheese was better as a vehicle for the soup than good on its own. The soup is so good but the grilled cheese dipped in the soup is the only way to do it!!! Def would recommend. 4 stars because I had acid reflux from the tomato soup (my own issue)',\n",
       "  'pos'),\n",
       " (\"I've been here three times now and I'm really grateful to have this place within walking distance. \\n\\nThe staff has been super friendly. I also appreciated how they professionally enforced COVID rules. They also handled a drunk guest very professionally and prevented anything from escalating. \\n\\nFood wise- I've had macaroni and cheese. Loved it. It's not overly heavy. The bang bang broccoli scared me when it came out because it just looked like a bunch of raw broccoli but they must have air fried it really good. It was awesome. The hot dog was good, the mustard on it was amazing. \\n\\nMy only complaint is that I kept getting wine and when I got to the bottom there was a bunch of gunk floating in it.\",\n",
       "  'pos'),\n",
       " (\"Our whole family has taken many classes from TMCC, including our two children who are in the high school program. It is an excellent college that works hard to support its students and staff. There are a lot of resources at the college to help, and everyone is approachable. In all of our courses we've found the professors to be knowledgeable. Can't say enough good things - if you're a serious student, you'll find success here and great people to help you along the way.\",\n",
       "  'pos'),\n",
       " ('After showing my friend \" Dairy is scary \" on YouTube and \" The game changers \" on Netflix, we decided to come here. \\n\\nThe soft serve is delicious not to mention all toppings are all Vegan expect bee pollen & honey.  \\nit. \\nYou can\\'t tell the difference and you don\\'t feel bloated after. The power of Plantbased! \\n\\nThe place is really cute and insta worthy. And the lady working inside is super sweet . \\n\\nThe only thing is that the acai portion is small that\\'s why I didnt order it.',\n",
       "  'pos'),\n",
       " (\"Cherry at Thorndale cleaners is the best! I've had a few tricky alterations on some shirts and jackets and they have all come out beautifully. Her rates are very fair and everything is always done on time and correctly. You won't be disappointed!\",\n",
       "  'pos'),\n",
       " (\"was a bit frustrated by our experience. Server kept ignoring us even tho it was practically empty inside. It seemed almost like there was some consistent miscommunication about who was supposed to be taking care of us. Our food was good, but it wasn't what we ordered. My partner and I both had to pick second choices for our meals because they were out of ingredients, which isn't a big deal but mixed with the being completely ignored a lot, it was not ideal.\",\n",
       "  'pos'),\n",
       " (\"This place is amazing. Incredible food, environment, and staff. I got the brioche breakfast sandwich and it was so good. The prices are really reasonable here too. It's a great place to go with people or alone to get some work done in a great environment.\",\n",
       "  'pos'),\n",
       " (\"This was my first visit and due to Covid hadn't been for 2 years to an eye Dr. The scheduling was very simply, the optometrist Dr Cooke was very thorough and comprehensive in his exam. Staff who assisted me with tests and then picking out glasses after the exam were polite, efficient as well as gave helpful opinions in selecting a frame. I would absolutely recommend this practice and plan to return for my next eye exam when needed.\",\n",
       "  'pos'),\n",
       " ('The atmosphere is very nice, the service is great, but after 4 meals at Louie over the last year or so, I am compelled to say that there food is not great. In fact, last night it was just bad.  The chicken dish and the striped bass dish that my girlfriend and I had were incredibly salty, waaaay too salty.  The broccolini I had was awful, like trying to cut through and chew bamboo. And the meal did not have a starch component?  Why?  Just salty chicken and bamboo-like broccolini.\\n\\nThey did comp the chicken, which was nice, but the food itself is not a 4 or 5 star experience.  They try hard, are very friendly and have good service, but the food is overrated.',\n",
       "  'neg'),\n",
       " ('Stayed one night for NYE. COVID protocols are not in place. Only saw one employee who was wearing a mask. Guests are walking around everywhere in the common areas without masks. Social distancing was not happening\\nin the dining area during breakfast which we observed as we were leaving. Otherwise, the room itself was great. Room is spacious and TV has Chromecast ability.',\n",
       "  'pos')]"
      ]
     },
     "execution_count": 105,
     "metadata": {},
     "output_type": "execute_result"
    }
   ],
   "source": [
    "train"
   ]
  },
  {
   "cell_type": "code",
   "execution_count": 106,
   "id": "c5700f68-7453-424d-b58c-a8d8bde5aadd",
   "metadata": {},
   "outputs": [
    {
     "data": {
      "text/plain": [
       "[(\"5 stars every time. Only reason you wouldn't like it is cause you don't know what's good for you. Love the while spot.\",\n",
       "  'pos'),\n",
       " (\"Cozy Italian spot located in Davis island. One of my favorite things about Oggi is it's a full 4 course dining experience with the entree. Nothing is absolute spectacular but I've never had anything I wouldn't order again. My favorite is their bucatini.\",\n",
       "  'pos'),\n",
       " (\"This place was amazing.  We got there at 5:30 pm, we had theater tickets at 7 pm.  There was a group of probably 25 that were sitting when we got there and a few other tables of people.  We know that everything is cooked fresh so with the giant table we thought of leaving not wanting to get to the theater late the server said you'll have time.  We ordered.  Then music starts blasting (we were under the speaker) then the owner (I think) sang some beautiful authentic Mexican songs!  She was amazing.  Insider note: ask her to sing you a song you will not be disappointed!  Food came out hot and amazing!  The homemade salsa was excellent as well.  Our table had tacos, enchiladas, massive steak burrito which was amazing. Our server was attentive.  All in all Pretty great.  And we made the theater with 10 min to spare!  Thank you Hidalgo's we will see you again soon!\",\n",
       "  'pos'),\n",
       " (\"Hate to say it but I don't understand what all of the hype is about! Was expecting long lines and crowds but ended up getting a table in the back room in the apartment complex lobby. Tried to order online with the QR code but it kept giving me an error that items in my cart were no longer available, but not specifying which items, so I ended up waiting in line to order anyway. \\n\\nNo one in my group liked the grilled cheese Jerusalem bagel. One compared it to frozen Ellio's pizza- and they weren't wrong- yikes. The avocado kubaneh toast was good, but nothing special beyond your average avocado toast. The pistachio sticky bun was by far the stand out item, but definitely doesn't compare to the pastries at Suraya. I don't drink coffee but others in the group strongly disliked theirs. My Bloody Mary was horrible, one of the worst I've had. \\n\\nThe items were delivered to the table sporadically with huge gaps of time in between. For example, we ordered 2 sticky buns and one came out right away and the other came out after we finished everything and were packing up to leave. \\n\\nOverall, a big ol' disappointment.\",\n",
       "  'neg'),\n",
       " ('Food is very good and flavorful.   Had lentils (dal tadka), lamb curry, chicken Tikka and naan bread.   Been a few times and consistent.  My only complaint is the portion sizes are very small for the price.',\n",
       "  'pos'),\n",
       " (\"We had the pork vindaloo and butter chicken along with the chicken pakora, naan and rice. The naan was so light and fluffy. So fresh-- the best we've ever had!! The pork vindaloo was bursting with flavor. The chicken pakora was recommended by our waiter and was really good!! The butter chicken was full of chunks of chicken and was super creamy. It wasn't the best we've had, but it was good. The only server was busting his butt! Definitely recommend this place!\",\n",
       "  'pos'),\n",
       " (\"Our whole family has taken many classes from TMCC, including our two children who are in the high school program. It is an excellent college that works hard to support its students and staff. There are a lot of resources at the college to help, and everyone is approachable. In all of our courses we've found the professors to be knowledgeable. Can't say enough good things - if you're a serious student, you'll find success here and great people to help you along the way.\",\n",
       "  'pos'),\n",
       " ('I got here at 6:02pm on a Sunday and it was already closed and no one could help. The hours of operation should be adjusted.',\n",
       "  'neg'),\n",
       " ('Service was great, but the food was meh. I ordered the Western omelette and the onion and peppers were kind of raw. The pancakes my partner ordered upset both of our stomachs (either that or it was the water). Utensils were also a little dirty. Standard diner with room for improvement. The server was wearing a face mask the entire time, and the booths are distanced/separated, which we appreciated',\n",
       "  'neg'),\n",
       " (\"Great atmosphere and the food is delicious but you don't get very big portions for the money spent. Great service. Nice place for a dressy casual lunch or dinner.\",\n",
       "  'pos'),\n",
       " ('Went in because we were both dying of hunger. Ordered two wraps and a smoothie, took almost 20 minutes to get them. Asked for napkins, was ignored. Wraps were poorly made, with the hummus veggie wrap containing no hummus and half a slice of tomato. Overall, understaffed and the only half decent thing was the smoothie.',\n",
       "  'pos'),\n",
       " ('I ate there and feel in love with there  good different. Flavors how they decorated there  dishes',\n",
       "  'pos'),\n",
       " (\"We were celebrating at First Night St Pete and this place looked inviting.   The inside was very crowded and we preferred outside anyway so we easily had a table for 4.   \\n\\nOur server was very sweet and brought us all water while we looked at the wine list.    We settled on a bottle of a Pinot Noir.   She brought the bottle, the glasses and a decanter for us.    Pinot's are all so different and this one was just ok.    \\n\\nWe liked the atmosphere and would return and try something else.\\n\\nThe very funky thing is the restroom.   You feel like you are walking into the kitchen.   They must have had to make great use of space.\",\n",
       "  'pos'),\n",
       " ('Rating one star because there is no option for zero. \\n\\nREAD NEGATIVE REVIEWS before you consider living in this apartment complex. The staff is condescending, unprofessional, and inexperienced. I\\'ve had problems with this complex from the day I moved in, which due to a leasing office mistake I moved in a day later than scheduled.\\n\\nThe first maintenance request my roommate and I reported was about our a/c not working on the hottest days of the year.After 3 days maintenance was sent down, looked at our thermostat and told us nothing was wrong. Our thermostat was set to 75 degrees, but was constantly running for 18 hrs a day and the temperature was staying at 89 degrees all day long.Three days later the A/C was still constantly running and had not been repaired.4 more calls, and around a week later during a call to the front office, I requested to speak to the property manager and maintenance supervisor ASAP, at this point the lady working in the office yells at me!! She said \"Who the hell do you think you are? You can\\'t tell me what to do!\"... I hung up and 10 minutes later maintenance was at my door, took an hour to repair my A/C, and again said nothing was wrong. Due to the lack of repairs our electrical bill TRIPLED in price!!\\n\\nDuring the summer storms this year my unit received plenty of water damage to the ceiling, and the walls. My roommate and I again, reported it the same day it occurred. A day later maintenance shows up  with buckets to catch the dripping water and cuts the bubbled ceiling off to let the drywall dry. A week goes by with no sign of the maintenance coming back and we notice staining and green/brown/orange/black/grey mildew and mold growing around the cut out area. I am allergic to mold and reported it to the office staff immediately, the answer I got was unacceptable and extremely unprofessional....... I was told that Arizona doesn\\'t have a mold problem and they would paint over it when they got the chance.... Completely disregarding my allergy. TWO MONTHS go by and not a single repair was made for the water damage, I personally went to the office to speak the the property manager and I was told my unit was the worst in the whole complex and they wouldn\\'t work on it because the roof was under warranty and they wont touch it until they get that settled. I gave it another two weeks and not a single email, phone call, nothing. I once again go to the office and they feed me the same line, but this time the property manager offers to move us to a sister complex with higher rent and less amenities. I said no. Then she offered an apartment in this same complex two buildings over that also did not have the same amenities and we would have to wait three months just before we moved in. I said no. We signed a lease for this exact apartment and they are supposed to keep it habitable and make reasonable repairs in a timely manner. Not a single update came back to us. We made a final maintenance request and demanded it be taken care of. The same day the maintenance supervisor came and cut the moldy drywall off the ceiling, exposed the rotting insulation, scraped off the mold and then placed the exact same piece of drywall back onto the roof and covered it up. We immediately told him that was not acceptable and we were not satisfied with the repair made. Another note, the maintenance WILL NOT clean up their mess. They left drywall shaving/paint/scuff marks all over the carpet, \"wood\" floors, and the walls, shown in pictures below. Now they claim to have fixed the issue and have not made anymore repairs. There is still a hole in the master bedroom bathroom that you can see in the pictures below. It has been 6 WHOLE MONTHS since I first reported this problem and I am still living with holes in my walls.\\n\\nI could type pages explaining all the problems we have encountered at this unprofessional apartment complex but I decided to compact it to the most unsettling events. \\nPLEASE READ THE NEGATIVE REVIEWS.',\n",
       "  'neg'),\n",
       " ('Efficient and professional. I went here to get a few things notarized over a span of several years. Never had a problem. \\n\\nThey were also really good about following COVID standards during the height of the pandemic.',\n",
       "  'pos'),\n",
       " ('I have two dogs, Isabelle and Willy. On January 4th I made a grooming appointment for Willy for January 6th and Isabelle on the 10th. On January 5th I confirmed it. Shortly thereafter, I received a phone call from Jamie the assistant store manager cancelling my appointment. I asked about rescheduling him for this Friday (7th), she told me she could not do that because she wasn\\'t in grooming and she did not know if they had availability. I asked her several questions - even asked if they could fit Willy into the schedule with Isabelle. She kept arguing with me. I asked to speak to the grooming manager - she wasn\\'t there. Eventually Jamie hung up on me after we had a back and forth about the pandemic, and being shortstaffed. I am very tired of hearing this and I expressed this. To which point, she said \"well sure the pandemic is all my fault!\" and hung up on me. I called back and asked for the District Manager information. The guy that answered transferred me BACK to Jamie where we had another conversation, I told her if she hung up on me again, I would come to the store and talk to her in person (meaning I would go to the store and TALK to her in person). During this call, she suggested I apply for a grooming position. I suggested she transfer to grooming. We also moved Willy\\'s appointment for the 6th to Isabelle\\'s appointment for the 10th. Today I called and spoke to Carol the grooming manager, who informed me that since it is now a conflict between me and Jamie (her claiming I threatened her), I can\\'t bring my dogs in until its resolved. That\\'s awesome customer service right there. I am still waiting for this district manager to call me. I am very upset, I have been bringing my dogs to PETCO FOR YEARS, I spend a lot of money at this store. I just needed my dogs to be groomed. Note that this is not the first time that they have just been unilaterally cancelled due to this store\\'s lack of staff.',\n",
       "  'neg'),\n",
       " (\"Good midweek get together with some co workers. I had a side salad with sweet potato fries. I'm on a veggie diet right not and found a few good option to put together to make it filling. Our waitress Christine was super nice and had great conversation. She also made me a strawberry lemonade , special order because it wasn't on the menu. I have nothing bad to say.\",\n",
       "  'pos'),\n",
       " (\"This is such a fun community event in Meridian Kessler!  For a fundraiser, the food and drink options are surprisingly well-priced.  There is no admission fee.  \\n\\nLive music, beignets, wine, what more could you look for?  I was surprised by just how many food options there were--there should be something for all the people in your group! The ticket system makes it really efficient to buy your food/drinks.  You'll buy your food/drink tickets in batches at specific stands which you use for the vendors.   \\n\\nIt is definitely a CROWDED event. Plan on parking a few blocks away. If you go later in the day, all the tables will already be claimed since many people literally will spend the whole day here.  Maybe bring a lawn chair for back-up seating! \\n\\nBonus Tip: While you are in Meridian Kessler, be sure to take a walk around to checkout the unique architecture in the neighborhood. From itty-bitty bungalows, Tudors, Colonial, and more there is so much to take a peak at.  \\n\\nBonus-bonus tip:  You can take the redline to the 42nd/College stop!  Also, this festival is just five blocks off the Monon, so feel free to bike it in too!\",\n",
       "  'pos'),\n",
       " ('Context: Over 600,000 new COVID-19 cases on average each day now in the U.S., and Arizona cases at their highest level ever, and hospitals overwhelmed. This natural grocers has a big sign on the door as you go in, stating (correctly) that masks are required by government mandate, and further stating that people not wearing a mask will not be permitted in the store. \\nOf the 3 dozen people I saw shopping, at least a third were not masked. I expressed my concern to the cashier, who said, \"we are leaving it up to the customer.\"  So if you are immune compromised, or care for someone who it is, or for any other reason are concerned about getting sick, be forewarned. \\nOn the other hand, if you don\\'t care about getting COVID-19, and laugh at people worrying about it, just remember that the high numbers hurt everybody, because it means health care isn\\'t available to the extent we\\'ve come to depend on it.',\n",
       "  'neg'),\n",
       " ('My family loves this fun, friendly diner.  Soups, salads and sandwiches are all really good.  I had the spinach salad and it was excellent.  Pizza and pasta look great too.  Our favorite place for a tasty lunch.',\n",
       "  'pos'),\n",
       " (\"After so much talk from my sister, I had to come in. Such a wonderful gem in a historical city. Great food and awesome service. I will be back for sure. I can't wait to try the other restaurants.\",\n",
       "  'pos'),\n",
       " ('My dad and I came here about half and hour before close but they still had all flavors available. The staff were nice and willing to answer any questions we had since it was our first time there. They had a ton of flavors to choose from (my dad and i both got Oreo in a waffle cone). The ice cream did NOT disappoint. If you need a sweet treat, definitely come check this place out.',\n",
       "  'pos'),\n",
       " (\"This review is for drinks only as we did not get a chance to try the food at Monterey. But, we will definitely be back in the future to try their food. We stopped by here for drinks twice while in the Carmel area. The bartender, Zenon was fabulous. He made the best espresso martinis! My husband said it was by far the best espresso martini he has ever had. Even while super busy during New Year's Eve, Zenon was quick and attentive when taking orders from guests. We can't wait to visit again.\",\n",
       "  'pos'),\n",
       " ('Worst service ever! We used to enjoy going here until servers changed! Food quality also, seemed to have changed.',\n",
       "  'neg'),\n",
       " (\"Texas Roadhouse is my hubby's family to go restaurant, or it was to go celebrate or get together pre pandemic. We went and ate In for the first time since before covid (usually we do pick up) on Christmas Eve and we're surprised by no wait time for tables despite it looking busy and quick time to get our food. The server was lovely and the food came out great. We forgot you can do call ahead for those peak hours. Prices are good too like always. Glad to have gone back:)\",\n",
       "  'pos'),\n",
       " (\"Wow! Excellent food great ambiance and excellent prices! Love coming here every chance I get. I came for the potato pancakes and kielbasa. The potato pancakes are awesome great taste and not greasy. The kielbasa was cooked perfectly and the saurkraut didn't disappoint.\",\n",
       "  'pos'),\n",
       " ('Mangosteen  was a new restaurant for us and we have now been back twice.  We enjoyed it the first time but we were intrigued with the bartenders and the cocktails being prepared.  So the second time we sat at the bar and let Luke make us different concoctions of liquor. They were great.  He is really good and make a unique and delicious drinks.  We saw some people having a Smokey Old Fashion and I had two tequilas, one tasting of pomegranate and the other of cucumber. Both were great. For food, we had the Korean bbq tacos and they went well with the tequila.  Definitely worth a visit.',\n",
       "  'pos'),\n",
       " ('Buyer beware. I bought my 2021 Tacoma last February which was an overall great experience. But I am changing my rating after I took my truck in for it\\'s first oil change and found out I was being charged full price even though I have the GEM membership. (5 free oil changes for first 5 years) To keep this short, it is due to a incorrect date listing on there finance records. With one date saying I bought the truck in November 2020 and another saying the correct date of February 2021. This nullified my entire membership on there books even though I have the appropriate paperwork saying otherwise. The rating at this point is because it has been a month and a half of me reaching out to the dealership and all I receive back is \"ya it should be taken care of in a couple days\". Not once have they reached out to update me about anything. It\\'s more of a major inconvenience and shows there lack of customer service capabilities that I did not expect from a well respected company and brand. I will have a tough time recommending Toyota at any point in the future even though I do truly love my truck. As well, the remote connect with your phone is only a trail to give you a heads up as mine ended after eight months even though I have heard of other people getting the service for 2 years? The car starter on the fob is terrible and has about a range of 20ft. Kind of embarrassing considering the fact there are self driving cars on the roads today.',\n",
       "  'neg'),\n",
       " ('My boyfriend and I went to Ulysses for dinner last night and really enjoyed it. We split the poutine and the meat lovers pizza. Our waitress recommended adding the herbed ricotta which we did and it was delicious. Both items were fantastic. Our waitress was great - friendly and attentive. I also really like the ambiance of the restaurant and could see myself hanging out at the bar area. Highly recommend!',\n",
       "  'pos'),\n",
       " ('Came here on a weeknight, they allowed us to choose if we wanted to sit inside or in the outside heated tent. We sat outside and it was cozy and secluded which was amazing. The crab cakes and oysters were the best out of the four things we ordered. They have a great happy hour, definitely recommend the chicken platter and mushroom flatbread. Will definitely be back when we are in Philly again!',\n",
       "  'pos'),\n",
       " (\"Really liked this place. I got my drink to go but I wanted to comeback and sit and work there if only it weren't three hours away. Great ambiance and drinks.\",\n",
       "  'pos'),\n",
       " (\"Went today with a bunch of Amazon returns. Aaron was super helpful and polite, very patient. Overall just a nice guy who didn't make me feel like a loser for returning eight different slips I bought on Amazon and ended up not wanting. I'll definitely be coming here for all my future returns. Godspeed.\",\n",
       "  'pos'),\n",
       " ('We went in search of Lucy Parlange, the folk inside helped us find her family grave, it took a little while but they did not give up.  Close to Miss Lucy we found Ann and Stan Rice and PT Beauregard.  This is a fantastic cemetery, it is hard to find the way in and took some perseverance.  You can walk around and marvel at the statues and tombs and wonder if you can secure a plot for yourself.',\n",
       "  'pos'),\n",
       " (\"Returning customer,  Been here a couple times. Today i noticed , The prices jumped through the roof. a small bowl of pho is 17$ and it's very small.\\nMy boyfriend and I went we got a coffee, small steak pho soup, broken rice platter and spring roll... came to 60$ with tip. Almost left when I noticed the change but was already seated. Won't return ... it's just regular  pho, no atmosphere  no music and out of the way.\",\n",
       "  'neg'),\n",
       " ('I ate there and feel in love with there  good different. Flavors how they decorated there  dishes',\n",
       "  'pos'),\n",
       " (\"Can't beat this place!  We moved here 6 years ago and they came highly recommended by a neighbor-  since our move we have registered three vehicles, transferred anything and everything from MD to PA, and so much more.  You can book an appointment or walk-in if they aren't busy.\\n\\nI have spoken with each employee over my years here, on the phone and in person- super thorough, and super informative.  I trust them with anything and everything for my vehicles and certified documents.  They send reminders, and explain everything 10 times if you need them too.\\n\\nThe only tricky thing about this location is the parking.  We have a large utility van so maneuvering it into the small angled spots was a two person job.  Small price to pay though for their service.\",\n",
       "  'pos'),\n",
       " (\"Their draft list and signature cocktails are amazing and that's what I come for. They also have fun games outside with a cute new setup that I'm excited to try out when the warmer weather comes around.\",\n",
       "  'pos'),\n",
       " (\"I'm NEVER disappointed at this classy yet approachable spot. \\n\\nThe vibe? Intimate, jazzy, unexpected. It's the perfect location for a date night or girl's night out. Plus there's an outdoor patio shielded from the street with lush foliage. \\n\\nThe food? Modern Mediterranean. There's always a little delightful twist. \\n\\nWe don't order calamari anywhere else because this is our favorite. Lightly breaded, tender, drizzled with sweet Thai chili sauce. But the best part is arguably the spicy pickled peppers they toss into the mix. \\n\\nWe've never had a bad dish here. The wine deals are great, too! I've been dying to go for brunch!!!\",\n",
       "  'pos'),\n",
       " (\"Do not hire these crook. They left big holes in every wall where they installed a vent. They said it wasn't their responsibility to close them. They also said we'd be able to open and close vents but they are positioned next to the ceiling at a height we would need a ladder to reach. SLOPPY UNPROFESSIONAL WORK that cost $50K.\",\n",
       "  'neg')]"
      ]
     },
     "execution_count": 106,
     "metadata": {},
     "output_type": "execute_result"
    }
   ],
   "source": [
    "test"
   ]
  },
  {
   "cell_type": "markdown",
   "id": "c338809e-f4c7-4740-8e8f-ad581a81b908",
   "metadata": {},
   "source": [
    "## Train Our Classifier"
   ]
  },
  {
   "cell_type": "code",
   "execution_count": 107,
   "id": "0079bcbd-fca4-43b7-8aef-1c2a982ca097",
   "metadata": {},
   "outputs": [],
   "source": [
    "cl = NaiveBayesClassifier(train)"
   ]
  },
  {
   "cell_type": "markdown",
   "id": "9b89c5eb-8da0-47fd-b0ee-2503b8726472",
   "metadata": {},
   "source": [
    "Let's see what's driving the model:"
   ]
  },
  {
   "cell_type": "code",
   "execution_count": 108,
   "id": "00da9e0d-7546-4727-9e7f-b30d86eb43f3",
   "metadata": {},
   "outputs": [
    {
     "name": "stdout",
     "output_type": "stream",
     "text": [
      "Most Informative Features\n",
      "           contains(bad) = True              neg : pos    =      9.8 : 1.0\n",
      "          contains(know) = True              neg : pos    =      9.8 : 1.0\n",
      "        contains(looked) = True              neg : pos    =      9.8 : 1.0\n",
      "          contains(most) = True              neg : pos    =      9.8 : 1.0\n",
      "         contains(where) = True              neg : pos    =      9.8 : 1.0\n",
      "       contains(minutes) = True              neg : pos    =      9.5 : 1.0\n",
      "          contains(cold) = True              neg : pos    =      8.2 : 1.0\n",
      "    contains(completely) = True              neg : pos    =      8.2 : 1.0\n",
      "      contains(customer) = True              neg : pos    =      8.2 : 1.0\n",
      "        contains(either) = True              neg : pos    =      8.2 : 1.0\n",
      "         contains(extra) = True              neg : pos    =      8.2 : 1.0\n",
      "       contains(instead) = True              neg : pos    =      8.2 : 1.0\n",
      "          contains(open) = True              neg : pos    =      8.2 : 1.0\n",
      "        contains(seated) = True              neg : pos    =      8.2 : 1.0\n",
      "        contains(tasted) = True              neg : pos    =      8.2 : 1.0\n",
      "         contains(today) = True              neg : pos    =      8.2 : 1.0\n",
      "      contains(location) = True              neg : pos    =      7.7 : 1.0\n",
      "             contains(4) = True              neg : pos    =      6.8 : 1.0\n",
      "          contains(Very) = True              neg : pos    =      6.8 : 1.0\n",
      "          contains(What) = True              neg : pos    =      6.8 : 1.0\n"
     ]
    }
   ],
   "source": [
    "cl.show_informative_features(20)"
   ]
  },
  {
   "cell_type": "markdown",
   "id": "8d3810e2-1e2b-493f-88cc-b287b3a554f1",
   "metadata": {},
   "source": [
    "## Remember Our Accuracy Metric?"
   ]
  },
  {
   "cell_type": "code",
   "execution_count": 109,
   "id": "aa8ab17a-b22c-4575-ba54-8ea127e89bb5",
   "metadata": {},
   "outputs": [
    {
     "data": {
      "text/plain": [
       "0.8717948717948718"
      ]
     },
     "execution_count": 109,
     "metadata": {},
     "output_type": "execute_result"
    }
   ],
   "source": [
    "cl.accuracy(test)"
   ]
  },
  {
   "cell_type": "code",
   "execution_count": 110,
   "id": "250de2c4-0c51-4f64-a71f-04dd380f17cd",
   "metadata": {},
   "outputs": [
    {
     "data": {
      "text/plain": [
       "39"
      ]
     },
     "execution_count": 110,
     "metadata": {},
     "output_type": "execute_result"
    }
   ],
   "source": [
    "len(test)"
   ]
  },
  {
   "cell_type": "code",
   "execution_count": 111,
   "id": "68035fa1-4222-40e7-addd-fe003eaa304a",
   "metadata": {},
   "outputs": [
    {
     "data": {
      "text/plain": [
       "(\"5 stars every time. Only reason you wouldn't like it is cause you don't know what's good for you. Love the while spot.\",\n",
       " 'pos')"
      ]
     },
     "execution_count": 111,
     "metadata": {},
     "output_type": "execute_result"
    }
   ],
   "source": [
    "test[0]"
   ]
  },
  {
   "cell_type": "code",
   "execution_count": 112,
   "id": "edf249cf-be89-454e-9d42-246d6f77f26b",
   "metadata": {},
   "outputs": [
    {
     "data": {
      "text/plain": [
       "'pos'"
      ]
     },
     "execution_count": 112,
     "metadata": {},
     "output_type": "execute_result"
    }
   ],
   "source": [
    "cl.classify(test[0])"
   ]
  },
  {
   "cell_type": "code",
   "execution_count": 113,
   "id": "487479ed-0a9e-4f94-bc3f-41c117c52d6d",
   "metadata": {},
   "outputs": [],
   "source": [
    "test_df = pd.DataFrame(test, columns=['text', 'sentiment'])\n",
    "test_df['classify_result'] = test_df['text'].apply(lambda x: cl.classify(x))"
   ]
  },
  {
   "cell_type": "code",
   "execution_count": 114,
   "id": "4df684cd-fc54-4eb6-8511-b0296a19c489",
   "metadata": {},
   "outputs": [
    {
     "data": {
      "text/html": [
       "<div>\n",
       "<style scoped>\n",
       "    .dataframe tbody tr th:only-of-type {\n",
       "        vertical-align: middle;\n",
       "    }\n",
       "\n",
       "    .dataframe tbody tr th {\n",
       "        vertical-align: top;\n",
       "    }\n",
       "\n",
       "    .dataframe thead th {\n",
       "        text-align: right;\n",
       "    }\n",
       "</style>\n",
       "<table border=\"1\" class=\"dataframe\">\n",
       "  <thead>\n",
       "    <tr style=\"text-align: right;\">\n",
       "      <th></th>\n",
       "      <th>text</th>\n",
       "      <th>sentiment</th>\n",
       "      <th>classify_result</th>\n",
       "    </tr>\n",
       "  </thead>\n",
       "  <tbody>\n",
       "    <tr>\n",
       "      <th>7</th>\n",
       "      <td>I got here at 6:02pm on a Sunday and it was al...</td>\n",
       "      <td>neg</td>\n",
       "      <td>pos</td>\n",
       "    </tr>\n",
       "    <tr>\n",
       "      <th>8</th>\n",
       "      <td>Service was great, but the food was meh. I ord...</td>\n",
       "      <td>neg</td>\n",
       "      <td>pos</td>\n",
       "    </tr>\n",
       "    <tr>\n",
       "      <th>18</th>\n",
       "      <td>Context: Over 600,000 new COVID-19 cases on av...</td>\n",
       "      <td>neg</td>\n",
       "      <td>pos</td>\n",
       "    </tr>\n",
       "    <tr>\n",
       "      <th>23</th>\n",
       "      <td>Worst service ever! We used to enjoy going her...</td>\n",
       "      <td>neg</td>\n",
       "      <td>pos</td>\n",
       "    </tr>\n",
       "    <tr>\n",
       "      <th>33</th>\n",
       "      <td>Returning customer,  Been here a couple times....</td>\n",
       "      <td>neg</td>\n",
       "      <td>pos</td>\n",
       "    </tr>\n",
       "  </tbody>\n",
       "</table>\n",
       "</div>"
      ],
      "text/plain": [
       "                                                 text sentiment  \\\n",
       "7   I got here at 6:02pm on a Sunday and it was al...       neg   \n",
       "8   Service was great, but the food was meh. I ord...       neg   \n",
       "18  Context: Over 600,000 new COVID-19 cases on av...       neg   \n",
       "23  Worst service ever! We used to enjoy going her...       neg   \n",
       "33  Returning customer,  Been here a couple times....       neg   \n",
       "\n",
       "   classify_result  \n",
       "7              pos  \n",
       "8              pos  \n",
       "18             pos  \n",
       "23             pos  \n",
       "33             pos  "
      ]
     },
     "execution_count": 114,
     "metadata": {},
     "output_type": "execute_result"
    }
   ],
   "source": [
    "test_df.loc[lambda x: x['sentiment'] != x['classify_result']]"
   ]
  },
  {
   "cell_type": "code",
   "execution_count": 124,
   "id": "333b3703-5635-4fd4-ba2d-18644d870a77",
   "metadata": {},
   "outputs": [
    {
     "data": {
      "text/html": [
       "<div>\n",
       "<style scoped>\n",
       "    .dataframe tbody tr th:only-of-type {\n",
       "        vertical-align: middle;\n",
       "    }\n",
       "\n",
       "    .dataframe tbody tr th {\n",
       "        vertical-align: top;\n",
       "    }\n",
       "\n",
       "    .dataframe thead th {\n",
       "        text-align: right;\n",
       "    }\n",
       "</style>\n",
       "<table border=\"1\" class=\"dataframe\">\n",
       "  <thead>\n",
       "    <tr style=\"text-align: right;\">\n",
       "      <th></th>\n",
       "      <th>text</th>\n",
       "      <th>sentiment</th>\n",
       "      <th>classify_result</th>\n",
       "    </tr>\n",
       "  </thead>\n",
       "  <tbody>\n",
       "    <tr>\n",
       "      <th>3</th>\n",
       "      <td>Hate to say it but I don't understand what all...</td>\n",
       "      <td>neg</td>\n",
       "      <td>neg</td>\n",
       "    </tr>\n",
       "    <tr>\n",
       "      <th>7</th>\n",
       "      <td>I got here at 6:02pm on a Sunday and it was al...</td>\n",
       "      <td>neg</td>\n",
       "      <td>pos</td>\n",
       "    </tr>\n",
       "    <tr>\n",
       "      <th>8</th>\n",
       "      <td>Service was great, but the food was meh. I ord...</td>\n",
       "      <td>neg</td>\n",
       "      <td>pos</td>\n",
       "    </tr>\n",
       "    <tr>\n",
       "      <th>13</th>\n",
       "      <td>Rating one star because there is no option for...</td>\n",
       "      <td>neg</td>\n",
       "      <td>neg</td>\n",
       "    </tr>\n",
       "    <tr>\n",
       "      <th>15</th>\n",
       "      <td>I have two dogs, Isabelle and Willy. On Januar...</td>\n",
       "      <td>neg</td>\n",
       "      <td>neg</td>\n",
       "    </tr>\n",
       "    <tr>\n",
       "      <th>18</th>\n",
       "      <td>Context: Over 600,000 new COVID-19 cases on av...</td>\n",
       "      <td>neg</td>\n",
       "      <td>pos</td>\n",
       "    </tr>\n",
       "    <tr>\n",
       "      <th>23</th>\n",
       "      <td>Worst service ever! We used to enjoy going her...</td>\n",
       "      <td>neg</td>\n",
       "      <td>pos</td>\n",
       "    </tr>\n",
       "    <tr>\n",
       "      <th>27</th>\n",
       "      <td>Buyer beware. I bought my 2021 Tacoma last Feb...</td>\n",
       "      <td>neg</td>\n",
       "      <td>neg</td>\n",
       "    </tr>\n",
       "    <tr>\n",
       "      <th>33</th>\n",
       "      <td>Returning customer,  Been here a couple times....</td>\n",
       "      <td>neg</td>\n",
       "      <td>pos</td>\n",
       "    </tr>\n",
       "    <tr>\n",
       "      <th>38</th>\n",
       "      <td>Do not hire these crook. They left big holes i...</td>\n",
       "      <td>neg</td>\n",
       "      <td>neg</td>\n",
       "    </tr>\n",
       "  </tbody>\n",
       "</table>\n",
       "</div>"
      ],
      "text/plain": [
       "                                                 text sentiment  \\\n",
       "3   Hate to say it but I don't understand what all...       neg   \n",
       "7   I got here at 6:02pm on a Sunday and it was al...       neg   \n",
       "8   Service was great, but the food was meh. I ord...       neg   \n",
       "13  Rating one star because there is no option for...       neg   \n",
       "15  I have two dogs, Isabelle and Willy. On Januar...       neg   \n",
       "18  Context: Over 600,000 new COVID-19 cases on av...       neg   \n",
       "23  Worst service ever! We used to enjoy going her...       neg   \n",
       "27  Buyer beware. I bought my 2021 Tacoma last Feb...       neg   \n",
       "33  Returning customer,  Been here a couple times....       neg   \n",
       "38  Do not hire these crook. They left big holes i...       neg   \n",
       "\n",
       "   classify_result  \n",
       "3              neg  \n",
       "7              pos  \n",
       "8              pos  \n",
       "13             neg  \n",
       "15             neg  \n",
       "18             pos  \n",
       "23             pos  \n",
       "27             neg  \n",
       "33             pos  \n",
       "38             neg  "
      ]
     },
     "execution_count": 124,
     "metadata": {},
     "output_type": "execute_result"
    }
   ],
   "source": [
    "test_df.loc[lambda x: x['sentiment'] == 'neg']"
   ]
  },
  {
   "cell_type": "code",
   "execution_count": 115,
   "id": "00a1c93d-bb15-4016-bbb5-ddbb69c40de5",
   "metadata": {},
   "outputs": [
    {
     "data": {
      "text/plain": [
       "array(['I got here at 6:02pm on a Sunday and it was already closed and no one could help. The hours of operation should be adjusted.',\n",
       "       'Service was great, but the food was meh. I ordered the Western omelette and the onion and peppers were kind of raw. The pancakes my partner ordered upset both of our stomachs (either that or it was the water). Utensils were also a little dirty. Standard diner with room for improvement. The server was wearing a face mask the entire time, and the booths are distanced/separated, which we appreciated',\n",
       "       'Context: Over 600,000 new COVID-19 cases on average each day now in the U.S., and Arizona cases at their highest level ever, and hospitals overwhelmed. This natural grocers has a big sign on the door as you go in, stating (correctly) that masks are required by government mandate, and further stating that people not wearing a mask will not be permitted in the store. \\nOf the 3 dozen people I saw shopping, at least a third were not masked. I expressed my concern to the cashier, who said, \"we are leaving it up to the customer.\"  So if you are immune compromised, or care for someone who it is, or for any other reason are concerned about getting sick, be forewarned. \\nOn the other hand, if you don\\'t care about getting COVID-19, and laugh at people worrying about it, just remember that the high numbers hurt everybody, because it means health care isn\\'t available to the extent we\\'ve come to depend on it.',\n",
       "       'Worst service ever! We used to enjoy going here until servers changed! Food quality also, seemed to have changed.',\n",
       "       \"Returning customer,  Been here a couple times. Today i noticed , The prices jumped through the roof. a small bowl of pho is 17$ and it's very small.\\nMy boyfriend and I went we got a coffee, small steak pho soup, broken rice platter and spring roll... came to 60$ with tip. Almost left when I noticed the change but was already seated. Won't return ... it's just regular  pho, no atmosphere  no music and out of the way.\"],\n",
       "      dtype=object)"
      ]
     },
     "execution_count": 115,
     "metadata": {},
     "output_type": "execute_result"
    }
   ],
   "source": [
    "test_df.loc[lambda x: x['sentiment'] != x['classify_result']]['text'].values"
   ]
  },
  {
   "cell_type": "code",
   "execution_count": 116,
   "id": "3494c1ed-15c9-41f8-a963-2cc653b691fe",
   "metadata": {},
   "outputs": [
    {
     "data": {
      "text/plain": [
       "sentiment\n",
       "pos    136\n",
       "neg     57\n",
       "Name: count, dtype: int64"
      ]
     },
     "execution_count": 116,
     "metadata": {},
     "output_type": "execute_result"
    }
   ],
   "source": [
    "clean_df['sentiment'].apply(lambda x: x.strip()).value_counts()"
   ]
  },
  {
   "cell_type": "markdown",
   "id": "c7ad54d4-f6c8-49a3-95a0-536a849a881f",
   "metadata": {},
   "source": [
    "## Let's Try Something Completely New!"
   ]
  },
  {
   "cell_type": "code",
   "execution_count": 117,
   "id": "37aa2fc3-1b1a-41c3-a54d-3c2c40261ad4",
   "metadata": {},
   "outputs": [
    {
     "data": {
      "text/plain": [
       "'pos'"
      ]
     },
     "execution_count": 117,
     "metadata": {},
     "output_type": "execute_result"
    }
   ],
   "source": [
    "cl.classify(\"This is an amazing library!\")"
   ]
  },
  {
   "cell_type": "code",
   "execution_count": 122,
   "id": "17e6a118-c5bc-485f-aa9f-5eff4d9c8e4c",
   "metadata": {},
   "outputs": [],
   "source": [
    "prob_dist = cl.prob_classify(\"What a terrible restaurant with great service.\")"
   ]
  },
  {
   "cell_type": "code",
   "execution_count": 123,
   "id": "f9dd8f42-43f7-4652-bc1e-252d29278afc",
   "metadata": {},
   "outputs": [
    {
     "data": {
      "text/plain": [
       "(1.0, 1.9555702103835987e-16)"
      ]
     },
     "execution_count": 123,
     "metadata": {},
     "output_type": "execute_result"
    }
   ],
   "source": [
    "prob_dist.prob('pos'), prob_dist.prob('neg')"
   ]
  },
  {
   "cell_type": "markdown",
   "id": "2e5fae14-217a-4598-bbf3-c5a7ca49a22c",
   "metadata": {},
   "source": [
    "---\n",
    "\n",
    "---\n",
    "\n",
    "---"
   ]
  }
 ],
 "metadata": {
  "kernelspec": {
   "display_name": "Python 3 (ipykernel)",
   "language": "python",
   "name": "python3"
  },
  "language_info": {
   "codemirror_mode": {
    "name": "ipython",
    "version": 3
   },
   "file_extension": ".py",
   "mimetype": "text/x-python",
   "name": "python",
   "nbconvert_exporter": "python",
   "pygments_lexer": "ipython3",
   "version": "3.12.6"
  }
 },
 "nbformat": 4,
 "nbformat_minor": 5
}
