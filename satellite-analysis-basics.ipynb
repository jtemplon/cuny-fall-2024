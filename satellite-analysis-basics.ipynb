{
 "cells": [
  {
   "cell_type": "code",
   "execution_count": 1,
   "id": "9113497c-67db-4ca7-9694-a96903d23d8b",
   "metadata": {},
   "outputs": [],
   "source": [
    "import io\n",
    "import boto3\n",
    "from botocore import UNSIGNED\n",
    "from botocore.client import Config\n",
    "from PIL import Image\n",
    "from ultralytics import YOLO\n",
    "import pandas as pd"
   ]
  },
  {
   "cell_type": "code",
   "execution_count": 2,
   "id": "0ef5bc7b-fa27-4d97-816e-ce29b0a69be0",
   "metadata": {},
   "outputs": [],
   "source": [
    "# Initialize S3 client\n",
    "s3 = boto3.client('s3', config=Config(signature_version=UNSIGNED))"
   ]
  },
  {
   "cell_type": "code",
   "execution_count": 3,
   "id": "99e3f457-622c-4a59-ae67-6d9162e06a80",
   "metadata": {},
   "outputs": [],
   "source": [
    "UMBRA_BUCKET = 'umbra-open-data-catalog'\n",
    "prefix = 'sar-data/tasks/ship_detection_testdata/'"
   ]
  },
  {
   "cell_type": "code",
   "execution_count": 4,
   "id": "91b6cfa0-a3f6-4133-8512-b063190e071a",
   "metadata": {},
   "outputs": [],
   "source": [
    "response = s3.list_objects_v2(Bucket=UMBRA_BUCKET, Prefix=prefix, Delimiter='/')"
   ]
  },
  {
   "cell_type": "code",
   "execution_count": 5,
   "id": "4ca14027-aa56-45c1-9f1d-d7cf557c96ee",
   "metadata": {},
   "outputs": [
    {
     "data": {
      "text/plain": [
       "[{'Prefix': 'sar-data/tasks/ship_detection_testdata/00174818-00fe-4c89-bf45-cc6149253707/'},\n",
       " {'Prefix': 'sar-data/tasks/ship_detection_testdata/00dee081-76ee-413a-8af2-e6be1c6ab8d0/'},\n",
       " {'Prefix': 'sar-data/tasks/ship_detection_testdata/00f0e649-8618-45cc-9c6d-629a1576ec54/'},\n",
       " {'Prefix': 'sar-data/tasks/ship_detection_testdata/011be8cb-1867-44cb-80ba-706d1e94f94e/'},\n",
       " {'Prefix': 'sar-data/tasks/ship_detection_testdata/0121e119-91e5-41b4-b428-b5b8825adae7/'},\n",
       " {'Prefix': 'sar-data/tasks/ship_detection_testdata/012fe132-d975-4d27-99f6-c70fd7fd6471/'},\n",
       " {'Prefix': 'sar-data/tasks/ship_detection_testdata/015e671e-1893-4847-a1e8-3b774964ce9f/'},\n",
       " {'Prefix': 'sar-data/tasks/ship_detection_testdata/018a5725-421c-4089-bea7-625f904dfd07/'},\n",
       " {'Prefix': 'sar-data/tasks/ship_detection_testdata/018f3ac1-eff3-487c-95fd-d869db502c57/'},\n",
       " {'Prefix': 'sar-data/tasks/ship_detection_testdata/01d0cc4e-80fb-4c32-8eb4-3d9f6cc8fe1b/'},\n",
       " {'Prefix': 'sar-data/tasks/ship_detection_testdata/01e48f3a-d9b4-4fe7-8d0c-77694dc3b411/'},\n",
       " {'Prefix': 'sar-data/tasks/ship_detection_testdata/01f77848-6723-4a9f-ad16-a4e15194709f/'},\n",
       " {'Prefix': 'sar-data/tasks/ship_detection_testdata/0204352e-581f-4212-82f0-174cfb351bee/'},\n",
       " {'Prefix': 'sar-data/tasks/ship_detection_testdata/0212f28a-a23d-49c4-a309-9a9ce4e371fc/'},\n",
       " {'Prefix': 'sar-data/tasks/ship_detection_testdata/022a61a4-f125-48de-9b56-c7ebcd9ffd2f/'},\n",
       " {'Prefix': 'sar-data/tasks/ship_detection_testdata/0250bc36-403a-42a0-a752-125f1d4fcd89/'},\n",
       " {'Prefix': 'sar-data/tasks/ship_detection_testdata/02a5fd1e-cb2e-4d4d-9c2a-cbdb337cd822/'},\n",
       " {'Prefix': 'sar-data/tasks/ship_detection_testdata/02c1fc66-2ac4-4c5e-bfd6-14aa22871cf7/'},\n",
       " {'Prefix': 'sar-data/tasks/ship_detection_testdata/030531ba-b900-4c4f-b7c8-820b194d2d35/'},\n",
       " {'Prefix': 'sar-data/tasks/ship_detection_testdata/03eb6de7-5b80-4fc2-8fe8-f832235b32c2/'}]"
      ]
     },
     "execution_count": 5,
     "metadata": {},
     "output_type": "execute_result"
    }
   ],
   "source": [
    "response['CommonPrefixes'][:20]"
   ]
  },
  {
   "cell_type": "code",
   "execution_count": 6,
   "id": "4b49b14d-58e4-462c-a3da-ab457fe8a766",
   "metadata": {},
   "outputs": [],
   "source": [
    "files = s3.list_objects_v2(Bucket=UMBRA_BUCKET, Prefix=response['CommonPrefixes'][0]['Prefix'])"
   ]
  },
  {
   "cell_type": "code",
   "execution_count": 7,
   "id": "7682032d-9205-47a0-871e-19bcef9dd88a",
   "metadata": {},
   "outputs": [
    {
     "data": {
      "text/plain": [
       "{'ResponseMetadata': {'RequestId': '7FS2DK2EG1EX6KQH',\n",
       "  'HostId': '+s6zdBQFbj/A066V7wX4qHPKa+zrarhqu9+mAtgdOO7eRBZ8YpYPGcPsr9AV6p9ojNnlpQenX9Y=',\n",
       "  'HTTPStatusCode': 200,\n",
       "  'HTTPHeaders': {'x-amz-id-2': '+s6zdBQFbj/A066V7wX4qHPKa+zrarhqu9+mAtgdOO7eRBZ8YpYPGcPsr9AV6p9ojNnlpQenX9Y=',\n",
       "   'x-amz-request-id': '7FS2DK2EG1EX6KQH',\n",
       "   'date': 'Tue, 12 Nov 2024 19:13:21 GMT',\n",
       "   'x-amz-bucket-region': 'us-west-2',\n",
       "   'content-type': 'application/xml',\n",
       "   'transfer-encoding': 'chunked',\n",
       "   'server': 'AmazonS3'},\n",
       "  'RetryAttempts': 0},\n",
       " 'IsTruncated': False,\n",
       " 'Contents': [{'Key': 'sar-data/tasks/ship_detection_testdata/00174818-00fe-4c89-bf45-cc6149253707/2023-04-15-01-17-53_UMBRA-05/2023-04-15-01-17-53_UMBRA-05_CPHD.cphd',\n",
       "   'LastModified': datetime.datetime(2024, 5, 30, 1, 46, 47, tzinfo=tzutc()),\n",
       "   'ETag': '\"4a8f7f93ea50d0229028ed4f83f5d117-704\"',\n",
       "   'Size': 5897272528,\n",
       "   'StorageClass': 'INTELLIGENT_TIERING'},\n",
       "  {'Key': 'sar-data/tasks/ship_detection_testdata/00174818-00fe-4c89-bf45-cc6149253707/2023-04-15-01-17-53_UMBRA-05/2023-04-15-01-17-53_UMBRA-05_GEC.tif',\n",
       "   'LastModified': datetime.datetime(2024, 5, 30, 1, 47, 32, tzinfo=tzutc()),\n",
       "   'ETag': '\"dee4b3840583e7704d3473e02292348e-61\"',\n",
       "   'Size': 509640656,\n",
       "   'StorageClass': 'INTELLIGENT_TIERING'},\n",
       "  {'Key': 'sar-data/tasks/ship_detection_testdata/00174818-00fe-4c89-bf45-cc6149253707/2023-04-15-01-17-53_UMBRA-05/2023-04-15-01-17-53_UMBRA-05_METADATA.json',\n",
       "   'LastModified': datetime.datetime(2024, 5, 30, 1, 46, 46, tzinfo=tzutc()),\n",
       "   'ETag': '\"974d1c62ea1b961eea12fc29df94b16e\"',\n",
       "   'Size': 7421,\n",
       "   'StorageClass': 'STANDARD'},\n",
       "  {'Key': 'sar-data/tasks/ship_detection_testdata/00174818-00fe-4c89-bf45-cc6149253707/2023-04-15-01-17-53_UMBRA-05/2023-04-15-01-17-53_UMBRA-05_SICD.nitf',\n",
       "   'LastModified': datetime.datetime(2024, 5, 30, 1, 47, 18, tzinfo=tzutc()),\n",
       "   'ETag': '\"3daaf7c0db794eec4ed1a4918206572e-219\"',\n",
       "   'Size': 1831649596,\n",
       "   'StorageClass': 'INTELLIGENT_TIERING'},\n",
       "  {'Key': 'sar-data/tasks/ship_detection_testdata/00174818-00fe-4c89-bf45-cc6149253707/2023-04-15-01-17-53_UMBRA-05/2023-04-15-01-17-53_UMBRA-05_SIDD.nitf',\n",
       "   'LastModified': datetime.datetime(2024, 5, 30, 1, 47, 35, tzinfo=tzutc()),\n",
       "   'ETag': '\"540ad6301d8a577b7716c53c754af197-35\"',\n",
       "   'Size': 293365368,\n",
       "   'StorageClass': 'INTELLIGENT_TIERING'}],\n",
       " 'Name': 'umbra-open-data-catalog',\n",
       " 'Prefix': 'sar-data/tasks/ship_detection_testdata/00174818-00fe-4c89-bf45-cc6149253707/',\n",
       " 'MaxKeys': 1000,\n",
       " 'EncodingType': 'url',\n",
       " 'KeyCount': 5}"
      ]
     },
     "execution_count": 7,
     "metadata": {},
     "output_type": "execute_result"
    }
   ],
   "source": [
    "files"
   ]
  },
  {
   "cell_type": "code",
   "execution_count": 8,
   "id": "7857733a-f8c1-4126-a7b2-dbb181232b60",
   "metadata": {},
   "outputs": [],
   "source": [
    "def load_image_from_s3(bucket_name, object_key):\n",
    "    \"\"\"\n",
    "    Load an image directly from an S3 bucket.\n",
    "    \n",
    "    Args:\n",
    "        bucket_name (str): Name of the S3 bucket.\n",
    "        object_key (str): Path to the image in the bucket.\n",
    "\n",
    "    Returns:\n",
    "        PIL.Image: The loaded image.\n",
    "    \"\"\"\n",
    "    # Get the object from S3\n",
    "    s3_response = s3.get_object(Bucket=bucket_name, Key=object_key)\n",
    "    \n",
    "    # Read the image data and load it as a PIL image\n",
    "    image_data = s3_response['Body'].read()\n",
    "    image = Image.open(io.BytesIO(image_data)).convert(\"RGB\")\n",
    "    return image"
   ]
  },
  {
   "cell_type": "code",
   "execution_count": 9,
   "id": "5f87b4e7-42f3-47d4-ba1c-d101e3ea60b9",
   "metadata": {},
   "outputs": [],
   "source": [
    "def process_image_with_yolo(model, image):\n",
    "    \"\"\"\n",
    "    Run YOLO model inference on a loaded image.\n",
    "\n",
    "    Args:\n",
    "        model (YOLO): YOLO model instance.\n",
    "        image (PIL.Image): Loaded image to process.\n",
    "\n",
    "    Returns:\n",
    "        results: YOLO model inference results.\n",
    "    \"\"\"\n",
    "    # Convert PIL image to a format compatible with YOLO (typically numpy or tensor)\n",
    "    # helpful documentation: https://docs.ultralytics.com/reference/engine/model/\n",
    "    results = model(image, save=True, save_txt=True)\n",
    "    return results"
   ]
  },
  {
   "cell_type": "code",
   "execution_count": 10,
   "id": "021e7e41-dba5-4bda-917f-93a4168094d4",
   "metadata": {},
   "outputs": [],
   "source": [
    "# Load YOLO model\n",
    "model = YOLO('yolo11n-obb.pt')"
   ]
  },
  {
   "cell_type": "code",
   "execution_count": 11,
   "id": "4aa12d25-3c86-484e-ac68-c2f4176d1689",
   "metadata": {},
   "outputs": [],
   "source": [
    "# because satellite images are large\n",
    "Image.MAX_IMAGE_PIXELS = None"
   ]
  },
  {
   "cell_type": "code",
   "execution_count": 12,
   "id": "dd709ce9-5601-4428-a696-70bf458dd628",
   "metadata": {},
   "outputs": [],
   "source": [
    "# not a safe way to call the object_key, but we can generalize it later and this takes a long time because images are huge\n",
    "image = load_image_from_s3(UMBRA_BUCKET, files['Contents'][1]['Key'])"
   ]
  },
  {
   "cell_type": "code",
   "execution_count": 13,
   "id": "da607b66-5a24-4fb4-a820-eb7995cbee4a",
   "metadata": {},
   "outputs": [
    {
     "name": "stdout",
     "output_type": "stream",
     "text": [
      "\n",
      "0: 1024x1024 134.2ms\n",
      "Speed: 16.1ms preprocess, 134.2ms inference, 1.2ms postprocess per image at shape (1, 3, 1024, 1024)\n",
      "Results saved to \u001b[1mruns/obb/predict5\u001b[0m\n",
      "1 label saved to runs/obb/predict5/labels\n"
     ]
    }
   ],
   "source": [
    "yolo_results = process_image_with_yolo(model, image)"
   ]
  },
  {
   "cell_type": "code",
   "execution_count": 14,
   "id": "12d260de-1cef-4c78-9647-26bac743fa29",
   "metadata": {},
   "outputs": [
    {
     "data": {
      "text/plain": [
       "[ultralytics.engine.results.Results object with attributes:\n",
       " \n",
       " boxes: None\n",
       " keypoints: None\n",
       " masks: None\n",
       " names: {0: 'plane', 1: 'ship', 2: 'storage tank', 3: 'baseball diamond', 4: 'tennis court', 5: 'basketball court', 6: 'ground track field', 7: 'harbor', 8: 'bridge', 9: 'large vehicle', 10: 'small vehicle', 11: 'helicopter', 12: 'roundabout', 13: 'soccer ball field', 14: 'swimming pool'}\n",
       " obb: ultralytics.engine.results.OBB object\n",
       " orig_img: array([[[19, 19, 19],\n",
       "         [ 7,  7,  7],\n",
       "         [17, 17, 17],\n",
       "         ...,\n",
       "         [72, 72, 72],\n",
       "         [61, 61, 61],\n",
       "         [25, 25, 25]],\n",
       " \n",
       "        [[61, 61, 61],\n",
       "         [37, 37, 37],\n",
       "         [ 0,  0,  0],\n",
       "         ...,\n",
       "         [27, 27, 27],\n",
       "         [55, 55, 55],\n",
       "         [61, 61, 61]],\n",
       " \n",
       "        [[60, 60, 60],\n",
       "         [35, 35, 35],\n",
       "         [ 0,  0,  0],\n",
       "         ...,\n",
       "         [54, 54, 54],\n",
       "         [46, 46, 46],\n",
       "         [56, 56, 56]],\n",
       " \n",
       "        ...,\n",
       " \n",
       "        [[14, 14, 14],\n",
       "         [40, 40, 40],\n",
       "         [28, 28, 28],\n",
       "         ...,\n",
       "         [51, 51, 51],\n",
       "         [62, 62, 62],\n",
       "         [49, 49, 49]],\n",
       " \n",
       "        [[42, 42, 42],\n",
       "         [61, 61, 61],\n",
       "         [52, 52, 52],\n",
       "         ...,\n",
       "         [47, 47, 47],\n",
       "         [54, 54, 54],\n",
       "         [53, 53, 53]],\n",
       " \n",
       "        [[59, 59, 59],\n",
       "         [10, 10, 10],\n",
       "         [37, 37, 37],\n",
       "         ...,\n",
       "         [21, 21, 21],\n",
       "         [33, 33, 33],\n",
       "         [38, 38, 38]]], dtype=uint8)\n",
       " orig_shape: (19272, 19271)\n",
       " path: 'image0.jpg'\n",
       " probs: None\n",
       " save_dir: 'runs/obb/predict5'\n",
       " speed: {'preprocess': 16.118764877319336, 'inference': 134.21201705932617, 'postprocess': 1.157999038696289}]"
      ]
     },
     "execution_count": 14,
     "metadata": {},
     "output_type": "execute_result"
    }
   ],
   "source": [
    "yolo_results"
   ]
  },
  {
   "cell_type": "code",
   "execution_count": 15,
   "id": "81510ede-b0e2-4783-802d-a4ede651948b",
   "metadata": {},
   "outputs": [],
   "source": [
    "# Documentation on results file: https://docs.ultralytics.com/datasets/obb/#supported-obb-dataset-formats\n",
    "def load_results_to_add_metadata(results, s3_key):\n",
    "    cols = ['class_index', 'x1', 'y1', 'x2', 'y2', 'x3', 'y3', 'x4', 'y4']\n",
    "    run_data = pd.read_csv(results[0].save_dir + '/labels/image0.txt', sep=' ', names=cols)\n",
    "    run_data['s3_object'] = s3_key\n",
    "    run_data['class_name'] = run_data['class_index'].apply(lambda x: results[0].names[x])\n",
    "    return run_data"
   ]
  },
  {
   "cell_type": "code",
   "execution_count": 16,
   "id": "c7b97840-e2e8-4c62-abe6-b60e9a8dedc0",
   "metadata": {},
   "outputs": [
    {
     "data": {
      "text/html": [
       "<div>\n",
       "<style scoped>\n",
       "    .dataframe tbody tr th:only-of-type {\n",
       "        vertical-align: middle;\n",
       "    }\n",
       "\n",
       "    .dataframe tbody tr th {\n",
       "        vertical-align: top;\n",
       "    }\n",
       "\n",
       "    .dataframe thead th {\n",
       "        text-align: right;\n",
       "    }\n",
       "</style>\n",
       "<table border=\"1\" class=\"dataframe\">\n",
       "  <thead>\n",
       "    <tr style=\"text-align: right;\">\n",
       "      <th></th>\n",
       "      <th>class_index</th>\n",
       "      <th>x1</th>\n",
       "      <th>y1</th>\n",
       "      <th>x2</th>\n",
       "      <th>y2</th>\n",
       "      <th>x3</th>\n",
       "      <th>y3</th>\n",
       "      <th>x4</th>\n",
       "      <th>y4</th>\n",
       "      <th>s3_object</th>\n",
       "      <th>class_name</th>\n",
       "    </tr>\n",
       "  </thead>\n",
       "  <tbody>\n",
       "    <tr>\n",
       "      <th>0</th>\n",
       "      <td>1</td>\n",
       "      <td>0.641826</td>\n",
       "      <td>0.504921</td>\n",
       "      <td>0.648928</td>\n",
       "      <td>0.514356</td>\n",
       "      <td>0.680818</td>\n",
       "      <td>0.490352</td>\n",
       "      <td>0.673716</td>\n",
       "      <td>0.480917</td>\n",
       "      <td>sar-data/tasks/ship_detection_testdata/0017481...</td>\n",
       "      <td>ship</td>\n",
       "    </tr>\n",
       "    <tr>\n",
       "      <th>1</th>\n",
       "      <td>1</td>\n",
       "      <td>0.494022</td>\n",
       "      <td>0.159517</td>\n",
       "      <td>0.504100</td>\n",
       "      <td>0.159834</td>\n",
       "      <td>0.504873</td>\n",
       "      <td>0.135249</td>\n",
       "      <td>0.494794</td>\n",
       "      <td>0.134933</td>\n",
       "      <td>sar-data/tasks/ship_detection_testdata/0017481...</td>\n",
       "      <td>ship</td>\n",
       "    </tr>\n",
       "    <tr>\n",
       "      <th>2</th>\n",
       "      <td>1</td>\n",
       "      <td>0.483884</td>\n",
       "      <td>0.166160</td>\n",
       "      <td>0.492525</td>\n",
       "      <td>0.166233</td>\n",
       "      <td>0.492762</td>\n",
       "      <td>0.138505</td>\n",
       "      <td>0.484121</td>\n",
       "      <td>0.138432</td>\n",
       "      <td>sar-data/tasks/ship_detection_testdata/0017481...</td>\n",
       "      <td>ship</td>\n",
       "    </tr>\n",
       "    <tr>\n",
       "      <th>3</th>\n",
       "      <td>1</td>\n",
       "      <td>0.682541</td>\n",
       "      <td>0.472303</td>\n",
       "      <td>0.687806</td>\n",
       "      <td>0.478396</td>\n",
       "      <td>0.707215</td>\n",
       "      <td>0.461626</td>\n",
       "      <td>0.701950</td>\n",
       "      <td>0.455533</td>\n",
       "      <td>sar-data/tasks/ship_detection_testdata/0017481...</td>\n",
       "      <td>ship</td>\n",
       "    </tr>\n",
       "    <tr>\n",
       "      <th>4</th>\n",
       "      <td>1</td>\n",
       "      <td>0.213718</td>\n",
       "      <td>0.423543</td>\n",
       "      <td>0.213812</td>\n",
       "      <td>0.412943</td>\n",
       "      <td>0.175133</td>\n",
       "      <td>0.412603</td>\n",
       "      <td>0.175040</td>\n",
       "      <td>0.423203</td>\n",
       "      <td>sar-data/tasks/ship_detection_testdata/0017481...</td>\n",
       "      <td>ship</td>\n",
       "    </tr>\n",
       "    <tr>\n",
       "      <th>5</th>\n",
       "      <td>1</td>\n",
       "      <td>0.156884</td>\n",
       "      <td>0.736837</td>\n",
       "      <td>0.157210</td>\n",
       "      <td>0.751664</td>\n",
       "      <td>0.198280</td>\n",
       "      <td>0.750763</td>\n",
       "      <td>0.197955</td>\n",
       "      <td>0.735936</td>\n",
       "      <td>sar-data/tasks/ship_detection_testdata/0017481...</td>\n",
       "      <td>ship</td>\n",
       "    </tr>\n",
       "  </tbody>\n",
       "</table>\n",
       "</div>"
      ],
      "text/plain": [
       "   class_index        x1        y1        x2        y2        x3        y3  \\\n",
       "0            1  0.641826  0.504921  0.648928  0.514356  0.680818  0.490352   \n",
       "1            1  0.494022  0.159517  0.504100  0.159834  0.504873  0.135249   \n",
       "2            1  0.483884  0.166160  0.492525  0.166233  0.492762  0.138505   \n",
       "3            1  0.682541  0.472303  0.687806  0.478396  0.707215  0.461626   \n",
       "4            1  0.213718  0.423543  0.213812  0.412943  0.175133  0.412603   \n",
       "5            1  0.156884  0.736837  0.157210  0.751664  0.198280  0.750763   \n",
       "\n",
       "         x4        y4                                          s3_object  \\\n",
       "0  0.673716  0.480917  sar-data/tasks/ship_detection_testdata/0017481...   \n",
       "1  0.494794  0.134933  sar-data/tasks/ship_detection_testdata/0017481...   \n",
       "2  0.484121  0.138432  sar-data/tasks/ship_detection_testdata/0017481...   \n",
       "3  0.701950  0.455533  sar-data/tasks/ship_detection_testdata/0017481...   \n",
       "4  0.175040  0.423203  sar-data/tasks/ship_detection_testdata/0017481...   \n",
       "5  0.197955  0.735936  sar-data/tasks/ship_detection_testdata/0017481...   \n",
       "\n",
       "  class_name  \n",
       "0       ship  \n",
       "1       ship  \n",
       "2       ship  \n",
       "3       ship  \n",
       "4       ship  \n",
       "5       ship  "
      ]
     },
     "execution_count": 16,
     "metadata": {},
     "output_type": "execute_result"
    }
   ],
   "source": [
    "# Example of the end result\n",
    "load_results_to_add_metadata(yolo_results, files['Contents'][1]['Key'])"
   ]
  },
  {
   "cell_type": "markdown",
   "id": "635869da-f329-4bf6-896b-48a52ca1ab7b",
   "metadata": {},
   "source": [
    "---\n",
    "\n",
    "---\n",
    "\n",
    "---"
   ]
  }
 ],
 "metadata": {
  "kernelspec": {
   "display_name": "Python 3 (ipykernel)",
   "language": "python",
   "name": "python3"
  },
  "language_info": {
   "codemirror_mode": {
    "name": "ipython",
    "version": 3
   },
   "file_extension": ".py",
   "mimetype": "text/x-python",
   "name": "python",
   "nbconvert_exporter": "python",
   "pygments_lexer": "ipython3",
   "version": "3.12.6"
  }
 },
 "nbformat": 4,
 "nbformat_minor": 5
}
