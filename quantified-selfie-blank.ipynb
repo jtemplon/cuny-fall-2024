{
 "cells": [
  {
   "cell_type": "code",
   "execution_count": null,
   "id": "3c940a60-6c31-4881-90d3-b3842d2aafff",
   "metadata": {},
   "outputs": [],
   "source": [
    "import pandas as pd\n",
    "import json\n",
    "import datetime as dt\n",
    "import matplotlib\n",
    "\n",
    "%matplotlib inline"
   ]
  },
  {
   "cell_type": "code",
   "execution_count": null,
   "id": "192f68ea-8086-4db7-b256-075a5ea14368",
   "metadata": {},
   "outputs": [],
   "source": [
    "FACEBOOK_PATH = \"\" # your path here"
   ]
  },
  {
   "cell_type": "markdown",
   "id": "8e6490b0-69b2-434e-8a06-8e18fd58f87f",
   "metadata": {},
   "source": [
    "# Searches"
   ]
  },
  {
   "cell_type": "code",
   "execution_count": null,
   "id": "8a33a854-7829-4120-a4aa-ce2a2722c1dd",
   "metadata": {},
   "outputs": [],
   "source": [
    "with open(FACEBOOK_PATH + \"logged_information/search/your_search_history.json\", \"r\") as f:\n",
    "    search_json = json.loads(f.read())"
   ]
  },
  {
   "cell_type": "code",
   "execution_count": null,
   "id": "43aec324-5286-4eff-81c6-559e0e462c7a",
   "metadata": {},
   "outputs": [],
   "source": [
    "search_json"
   ]
  },
  {
   "cell_type": "code",
   "execution_count": null,
   "id": "3aa4bbf0-5274-47fa-a394-ba7224ed89a3",
   "metadata": {},
   "outputs": [],
   "source": [
    "searches = []\n",
    "for s in search_json[\"searches_v2\"]:\n",
    "    try:\n",
    "        s_dict = {\n",
    "            \"timestamp\": s[\"timestamp\"],\n",
    "            \"search\": s[\"data\"][0][\"text\"]\n",
    "        }\n",
    "        searches.append(s_dict)\n",
    "    except:\n",
    "        print(s)"
   ]
  },
  {
   "cell_type": "code",
   "execution_count": null,
   "id": "951ed455-e153-455e-ab62-c49d7fe982ae",
   "metadata": {},
   "outputs": [],
   "source": [
    "search_df = pd.DataFrame(searches)"
   ]
  },
  {
   "cell_type": "code",
   "execution_count": null,
   "id": "8541640a-eabd-4f9b-9d6f-15c2924bdff8",
   "metadata": {},
   "outputs": [],
   "source": [
    "search_df.head()"
   ]
  },
  {
   "cell_type": "code",
   "execution_count": null,
   "id": "46176ca3-62d3-40e8-b941-000ee3d2c9bf",
   "metadata": {},
   "outputs": [],
   "source": [
    "search_df[\"search\"].value_counts().head()"
   ]
  },
  {
   "cell_type": "code",
   "execution_count": null,
   "id": "22e4ffd4-f1a3-47bf-8d52-9ea4c8bc39b8",
   "metadata": {},
   "outputs": [],
   "source": [
    "search_df[\"datetime\"] = search_df[\"timestamp\"].apply(lambda x: dt.datetime.utcfromtimestamp(x))\n",
    "search_df[\"date\"] = search_df[\"datetime\"].apply(lambda x: x.date())"
   ]
  },
  {
   "cell_type": "code",
   "execution_count": null,
   "id": "d7ab767b-423b-4e14-a460-33d2b0003b3a",
   "metadata": {},
   "outputs": [],
   "source": [
    "search_df.head()"
   ]
  },
  {
   "cell_type": "code",
   "execution_count": null,
   "id": "8eedc243-a5d7-4ee6-b826-5d50fbd278c2",
   "metadata": {},
   "outputs": [],
   "source": [
    "search_df['datetime'].min()"
   ]
  },
  {
   "cell_type": "code",
   "execution_count": null,
   "id": "650775fa-476c-4c17-b045-baca5e7298f0",
   "metadata": {},
   "outputs": [],
   "source": [
    "search_df.groupby(\"date\")[\"search\"].size().plot(figsize=(10,10))\n",
    "pass"
   ]
  },
  {
   "cell_type": "code",
   "execution_count": null,
   "id": "e1789e56-02f8-460c-a339-7aba7448bf62",
   "metadata": {},
   "outputs": [],
   "source": [
    "search_df.groupby(\"date\")[\"search\"].size().sort_values(ascending=False).head(10)"
   ]
  },
  {
   "cell_type": "markdown",
   "id": "c546f0c9-e1c5-4371-8df9-b082c472c0c2",
   "metadata": {},
   "source": [
    "# Posts"
   ]
  },
  {
   "cell_type": "code",
   "execution_count": null,
   "id": "b004ed29-9eb5-4cfc-b3d5-7f4bc409c2d5",
   "metadata": {},
   "outputs": [],
   "source": [
    "with open(\n",
    "    FACEBOOK_PATH + \"your_activity_across_facebook/posts/your_posts__check_ins__photos_and_videos_1.json\",\n",
    "    \"r\"\n",
    ") as f:\n",
    "    post_json = json.loads(f.read())"
   ]
  },
  {
   "cell_type": "code",
   "execution_count": null,
   "id": "424c82e9-98fa-431f-b91e-27c11395c91b",
   "metadata": {},
   "outputs": [],
   "source": [
    "post_json"
   ]
  },
  {
   "cell_type": "code",
   "execution_count": null,
   "id": "e35c9082-07b3-490d-8d89-47c661baece4",
   "metadata": {},
   "outputs": [],
   "source": [
    "posts = []\n",
    "for p in post_json:\n",
    "    try:\n",
    "        p_dict = {\n",
    "            \"timestamp\": p[\"timestamp\"],\n",
    "            \"post_text\": p[\"data\"][0][\"post\"]\n",
    "        }\n",
    "        posts.append(p_dict)\n",
    "    except:\n",
    "        print(p)"
   ]
  },
  {
   "cell_type": "code",
   "execution_count": null,
   "id": "c8921aa5-5be9-43ed-be67-ffcaf0875dea",
   "metadata": {},
   "outputs": [],
   "source": [
    "len(posts)"
   ]
  },
  {
   "cell_type": "code",
   "execution_count": null,
   "id": "971c74ec-907f-4a18-95c4-82fdc209d661",
   "metadata": {},
   "outputs": [],
   "source": [
    "post_df = pd.DataFrame(posts)"
   ]
  },
  {
   "cell_type": "code",
   "execution_count": null,
   "id": "d84bfa95-c199-4271-bcd5-a51db1d30a15",
   "metadata": {},
   "outputs": [],
   "source": [
    "post_df.head()"
   ]
  },
  {
   "cell_type": "code",
   "execution_count": null,
   "id": "041de6ed-bd47-4e0c-95c0-280e437ef11e",
   "metadata": {},
   "outputs": [],
   "source": [
    "post_df[\"datetime\"] = post_df[\"timestamp\"].apply(lambda x: dt.datetime.utcfromtimestamp(x))\n",
    "post_df[\"date\"] = post_df[\"datetime\"].apply(lambda x: x.date())\n",
    "post_df[\"year\"] = post_df[\"datetime\"].apply(lambda x: x.year)"
   ]
  },
  {
   "cell_type": "code",
   "execution_count": null,
   "id": "c0d4283b-4ca8-4684-910a-253d17ca28cb",
   "metadata": {},
   "outputs": [],
   "source": [
    "new_post_df = post_df[\"year\"].value_counts().to_frame()\n",
    "birthday_post_df = post_df.loc[\n",
    "        lambda x: x[\"post_text\"].apply(lambda x: x.upper()).str.contains(\"HAPPY BIRTHDAY\")\n",
    "    ][\"year\"].value_counts().to_frame()\n",
    "\n",
    "posts_df = new_post_df.join(birthday_post_df, rsuffix=\"_bday\").fillna(0)\n",
    "posts_df.sort_index().plot(kind=\"bar\")\n",
    "pass"
   ]
  },
  {
   "cell_type": "markdown",
   "id": "76042c2d-65c6-4d1c-9020-90898664e670",
   "metadata": {},
   "source": [
    "# Login and Logouts"
   ]
  },
  {
   "cell_type": "code",
   "execution_count": null,
   "id": "07ea318d-bcc2-4747-a88d-562a9ceef420",
   "metadata": {},
   "outputs": [],
   "source": [
    "with open(FACEBOOK_PATH + \"security_and_login_information/logins_and_logouts.json\", \"r\") as f:\n",
    "    logs_df = pd.DataFrame(json.loads(f.read())[\"account_accesses_v2\"])"
   ]
  },
  {
   "cell_type": "code",
   "execution_count": null,
   "id": "51ad3c9b-cf46-4f18-a256-0f29535d913a",
   "metadata": {},
   "outputs": [],
   "source": [
    "logs_df.head()"
   ]
  },
  {
   "cell_type": "code",
   "execution_count": null,
   "id": "d27c31c0-da99-4102-a334-a85d26cfeffb",
   "metadata": {},
   "outputs": [],
   "source": [
    "logs_df[\"ip_address\"].value_counts()"
   ]
  },
  {
   "cell_type": "markdown",
   "id": "e8498149-5cd9-4c17-9c8d-251457b8a3a0",
   "metadata": {},
   "source": [
    "# Profile Info"
   ]
  },
  {
   "cell_type": "code",
   "execution_count": null,
   "id": "6fe19b2f-a9f0-40ab-b991-f3ebc3bd2731",
   "metadata": {},
   "outputs": [],
   "source": [
    "with open(FACEBOOK_PATH + \"personal_information/profile_information/profile_information.json\", \"r\") as f:\n",
    "    profile = json.loads(f.read())"
   ]
  },
  {
   "cell_type": "code",
   "execution_count": null,
   "id": "5e148e6d-2341-44a4-b89d-b89bc993207e",
   "metadata": {},
   "outputs": [],
   "source": [
    "profile"
   ]
  },
  {
   "cell_type": "markdown",
   "id": "713230aa-8af8-4842-acba-6e6476210c79",
   "metadata": {},
   "source": [
    "# Your Own\n",
    "\n",
    "Find one aspect of the Facebook data you want to explore. Parse through the data and share one interesting insight you found."
   ]
  }
 ],
 "metadata": {
  "kernelspec": {
   "display_name": "Python 3 (ipykernel)",
   "language": "python",
   "name": "python3"
  },
  "language_info": {
   "codemirror_mode": {
    "name": "ipython",
    "version": 3
   },
   "file_extension": ".py",
   "mimetype": "text/x-python",
   "name": "python",
   "nbconvert_exporter": "python",
   "pygments_lexer": "ipython3",
   "version": "3.12.6"
  }
 },
 "nbformat": 4,
 "nbformat_minor": 5
}
